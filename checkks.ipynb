{
  "cells": [
    {
      "cell_type": "markdown",
      "metadata": {
        "id": "view-in-github",
        "colab_type": "text"
      },
      "source": [
        "<a href=\"https://colab.research.google.com/github/AbhinavPandey1911/OrbitVids/blob/main/checkks.ipynb\" target=\"_parent\"><img src=\"https://colab.research.google.com/assets/colab-badge.svg\" alt=\"Open In Colab\"/></a>"
      ]
    },
    {
      "cell_type": "code",
      "execution_count": 1,
      "metadata": {
        "id": "mywA8KLUaKs1"
      },
      "outputs": [],
      "source": [
        "import pandas as pd\n",
        "import numpy as np\n",
        "import matplotlib.pyplot as plt\n",
        "import seaborn as sns\n",
        "from tqdm.notebook import tqdm_notebook\n",
        "from sklearn import preprocessing\n",
        "from sklearn.feature_selection import SelectFromModel\n",
        "from sklearn.ensemble import RandomForestClassifier\n",
        "from sklearn.linear_model import LogisticRegression\n",
        "from tqdm import tqdm_notebook as tqdm\n",
        "from xgboost import XGBClassifier\n",
        "from sklearn.model_selection import RandomizedSearchCV\n",
        "from sklearn.tree import DecisionTreeClassifier\n",
        "from sklearn.preprocessing import Normalizer\n",
        "from sklearn.metrics import f1_score\n",
        "#from sklearn.metrics import plot_confusion_matrix\n",
        "from sklearn.ensemble import AdaBoostClassifier\n",
        "from sklearn.neural_network import MLPClassifier\n",
        "# from sklearn.model_selection import cross_val_score\n",
        "from sklearn.model_selection import cross_validate\n",
        "from sklearn.naive_bayes import GaussianNB\n",
        "from sklearn import svm"
      ]
    },
    {
      "cell_type": "code",
      "execution_count": 2,
      "metadata": {
        "colab": {
          "base_uri": "https://localhost:8080/"
        },
        "id": "PCbnkKHc78Yl",
        "outputId": "5a04275f-d0d1-4be2-bbb9-27c68fbd2f08"
      },
      "outputs": [
        {
          "output_type": "stream",
          "name": "stdout",
          "text": [
            "Drive already mounted at /content/drive; to attempt to forcibly remount, call drive.mount(\"/content/drive\", force_remount=True).\n"
          ]
        }
      ],
      "source": [
        "from google.colab import drive\n",
        "drive.mount('/content/drive')"
      ]
    },
    {
      "cell_type": "code",
      "execution_count": 3,
      "metadata": {
        "id": "FGD2w4NRaN0V"
      },
      "outputs": [],
      "source": [
        "import pickle\n",
        "import random\n",
        "import warnings\n",
        "warnings.filterwarnings('ignore')\n"
      ]
    },
    {
      "cell_type": "code",
      "execution_count": 4,
      "metadata": {
        "colab": {
          "base_uri": "https://localhost:8080/"
        },
        "id": "y21FQKgEaP6-",
        "outputId": "e85993fe-2f33-4a9f-9079-d7e5c3bcfc60"
      },
      "outputs": [
        {
          "output_type": "stream",
          "name": "stdout",
          "text": [
            "fatal: destination path 'rapidsai-csp-utils' already exists and is not an empty directory.\n",
            "Traceback (most recent call last):\n",
            "  File \"/content/rapidsai-csp-utils/colab/pip-install.py\", line 30, in <module>\n",
            "    if ('P' not in gpu_name):\n",
            "TypeError: a bytes-like object is required, not 'str'\n"
          ]
        }
      ],
      "source": [
        "!git clone https://github.com/rapidsai/rapidsai-csp-utils.git\n",
        "!python rapidsai-csp-utils/colab/pip-install.py\n"
      ]
    },
    {
      "cell_type": "code",
      "execution_count": 5,
      "metadata": {
        "colab": {
          "base_uri": "https://localhost:8080/"
        },
        "id": "zdWg2Tv6aRvt",
        "outputId": "c6ac57c5-aaf6-4c90-f117-47a5b0f324f8"
      },
      "outputs": [
        {
          "output_type": "stream",
          "name": "stdout",
          "text": [
            "Dataframe shape on GPU: (4000000, 85)\n",
            "         Unnamed: 0                                   Flow ID          Src IP  \\\n",
            "3999900     4840786   172.31.67.48-209.85.203.149-49968-443-6    172.31.67.48   \n",
            "3999901     5039100        172.31.67.6-52.84.4.54-53220-443-6     172.31.67.6   \n",
            "3999902     4101867  172.31.66.71-209.10.106.141-3389-53042-6  209.10.106.141   \n",
            "3999903     6677074       172.31.66.24-72.21.91.29-49315-80-6     72.21.91.29   \n",
            "3999904     6782535       172.31.0.2-172.31.66.92-53-52556-17    172.31.66.92   \n",
            "...             ...                                       ...             ...   \n",
            "3999995     5169319     172.31.67.96-50.97.40.233-50193-443-6    50.97.40.233   \n",
            "3999996     1611969   169.254.169.254-172.31.67.15-80-51546-6    172.31.67.15   \n",
            "3999997     2718961      172.31.0.2-172.31.65.107-53-62555-17   172.31.65.107   \n",
            "3999998     3156443  172.31.65.72-204.62.193.124-3389-51102-6  204.62.193.124   \n",
            "3999999     2157748    172.31.64.19-13.89.190.129-49692-443-6    172.31.64.19   \n",
            "\n",
            "         Src Port           Dst IP  Dst Port  Protocol            Timestamp  \\\n",
            "3999900     49968   209.85.203.149       443         6  20/02/2018 08:40:59   \n",
            "3999901     53220       52.84.4.54       443         6  20/02/2018 01:21:40   \n",
            "3999902     53042     172.31.66.71      3389         6  20/02/2018 04:29:43   \n",
            "3999903        80     172.31.66.24     49315         6  20/02/2018 09:02:58   \n",
            "3999904     52556       172.31.0.2        53        17  20/02/2018 02:15:28   \n",
            "...           ...              ...       ...       ...                  ...   \n",
            "3999995       443     172.31.67.96     50193         6  20/02/2018 08:54:02   \n",
            "3999996     51546  169.254.169.254        80         6  20/02/2018 02:59:49   \n",
            "3999997     62555       172.31.0.2        53        17  20/02/2018 08:53:44   \n",
            "3999998     51102     172.31.65.72      3389         6  20/02/2018 11:46:01   \n",
            "3999999     49692    13.89.190.129       443         6  20/02/2018 10:43:08   \n",
            "\n",
            "         Flow Duration  Tot Fwd Pkts  ...  Fwd Seg Size Min  Active Mean  \\\n",
            "3999900            325             3  ...                20          0.0   \n",
            "3999901          43696             9  ...                20          0.0   \n",
            "3999902        3335784            10  ...                20          0.0   \n",
            "3999903             37             1  ...                20          0.0   \n",
            "3999904           1029             1  ...                 8          0.0   \n",
            "...                ...           ...  ...               ...          ...   \n",
            "3999995             24             2  ...                20          0.0   \n",
            "3999996        5395171             4  ...                20          0.0   \n",
            "3999997            965             1  ...                 8          0.0   \n",
            "3999998        1366034             8  ...                20          0.0   \n",
            "3999999       60260438             4  ...                20     168221.0   \n",
            "\n",
            "         Active Std  Active Max  Active Min   Idle Mean  Idle Std    Idle Max  \\\n",
            "3999900         0.0         0.0         0.0         0.0       0.0         0.0   \n",
            "3999901         0.0         0.0         0.0         0.0       0.0         0.0   \n",
            "3999902         0.0         0.0         0.0         0.0       0.0         0.0   \n",
            "3999903         0.0         0.0         0.0         0.0       0.0         0.0   \n",
            "3999904         0.0         0.0         0.0         0.0       0.0         0.0   \n",
            "...             ...         ...         ...         ...       ...         ...   \n",
            "3999995         0.0         0.0         0.0         0.0       0.0         0.0   \n",
            "3999996         0.0         0.0         0.0         0.0       0.0         0.0   \n",
            "3999997         0.0         0.0         0.0         0.0       0.0         0.0   \n",
            "3999998         0.0         0.0         0.0         0.0       0.0         0.0   \n",
            "3999999         0.0    168221.0    168221.0  59953238.0       0.0  59953238.0   \n",
            "\n",
            "           Idle Min   Label  \n",
            "3999900         0.0  Benign  \n",
            "3999901         0.0  Benign  \n",
            "3999902         0.0  Benign  \n",
            "3999903         0.0  Benign  \n",
            "3999904         0.0  Benign  \n",
            "...             ...     ...  \n",
            "3999995         0.0  Benign  \n",
            "3999996         0.0  Benign  \n",
            "3999997         0.0  Benign  \n",
            "3999998         0.0  Benign  \n",
            "3999999  59953238.0  Benign  \n",
            "\n",
            "[100 rows x 85 columns]\n"
          ]
        }
      ],
      "source": [
        "import cudf\n",
        "\n",
        "filename = '/content/drive/MyDrive/Colab Notebooks/unbalaced_20_80_dataset.csv'\n",
        "data = cudf.read_csv(filename, index_col=False,nrows=4000000)\n",
        "print('Dataframe shape on GPU:', data.shape)\n",
        "print(data.tail(100))"
      ]
    },
    {
      "cell_type": "code",
      "execution_count": 6,
      "metadata": {
        "colab": {
          "base_uri": "https://localhost:8080/"
        },
        "id": "dqm57QcQaX2A",
        "outputId": "a0271571-23f1-45a8-96f8-310f2f3337dd"
      },
      "outputs": [
        {
          "output_type": "stream",
          "name": "stdout",
          "text": [
            "Columns with null values:\n",
            " ['Flow Byts/s'] \n",
            "\n",
            "\n",
            " Columns with inf or -inf values:\n",
            " ['Flow Byts/s', 'Flow Pkts/s'] \n",
            "\n"
          ]
        }
      ],
      "source": [
        "# 1. Identify columns with null values (NaN)\n",
        "import cupy as cp\n",
        "nan_cols = []\n",
        "for col in data.columns:\n",
        "    if data[col].null_count > 0:\n",
        "        nan_cols.append(col)\n",
        "\n",
        "print('Columns with null values:\\n', nan_cols, '\\n')\n",
        "\n",
        "\n",
        "# Define infinity values for cuDF\n",
        "infinity_values = [cp.inf, -cp.inf]\n",
        "\n",
        "# Identify columns with infinity values (inf or -inf)\n",
        "inf_columns = []\n",
        "for col in data.columns:\n",
        "    if (data[col].isin(infinity_values)).any():\n",
        "        inf_columns.append(col)\n",
        "\n",
        "print('\\n Columns with inf or -inf values:\\n', inf_columns, '\\n')"
      ]
    },
    {
      "cell_type": "code",
      "execution_count": 7,
      "metadata": {
        "colab": {
          "base_uri": "https://localhost:8080/"
        },
        "id": "BxMU1-Yiahi7",
        "outputId": "033f0ac3-7cf0-4265-ce49-6252f3c65e17"
      },
      "outputs": [
        {
          "output_type": "stream",
          "name": "stdout",
          "text": [
            "Filling 'Flow Pkts/s' NA values with mean: 29711.69816418235\n",
            "Filling 'Flow Byts/s' NA values with mean: 284365.1261561364\n"
          ]
        }
      ],
      "source": [
        "data['Flow Pkts/s'] = data['Flow Pkts/s'].replace(cp.inf, cp.nan)\n",
        "data['Flow Byts/s'] = data['Flow Byts/s'].replace(cp.inf, cp.nan)\n",
        "\n",
        "# Now you can safely fill missing values (NaN) with the mean\n",
        "print('Filling \\'Flow Pkts/s\\' NA values with mean:', data['Flow Pkts/s'].mean())\n",
        "data['Flow Pkts/s'].fillna(data['Flow Pkts/s'].mean(), inplace=True)\n",
        "\n",
        "print('Filling \\'Flow Byts/s\\' NA values with mean:', data['Flow Byts/s'].mean())\n",
        "data['Flow Byts/s'].fillna(data['Flow Byts/s'].mean(), inplace=True)\n"
      ]
    },
    {
      "cell_type": "code",
      "execution_count": 8,
      "metadata": {
        "colab": {
          "base_uri": "https://localhost:8080/",
          "height": 205,
          "referenced_widgets": [
            "6d104e22a9e34d17b10056c110643568",
            "d0513a31388f4891a40929f3e20bb66c",
            "0385cec3415d415a8ae925ceb3879849",
            "ac6a3df8359b4350a00d3b7ae3e124b9",
            "2f613545c95243d8b4245ac58e6720f8",
            "c7f0061f02614d7fb06b81437d027010",
            "27ec0962e93644bda2fef8c4fc541922",
            "27f01df55a01402db888c4409b404ade",
            "306e26f947c4431896ef74bef4c4cf72",
            "401d18ce5a514e758b2d2d880dcb7ebe",
            "c2b2d17c0103408b867a52434209b1ba"
          ]
        },
        "id": "Lsr_n5PCajLZ",
        "outputId": "61c1986b-e9b3-4a95-b9ca-b86471ae2a3d"
      },
      "outputs": [
        {
          "output_type": "display_data",
          "data": {
            "text/plain": [
              "  0%|          | 0/85 [00:00<?, ?it/s]"
            ],
            "application/vnd.jupyter.widget-view+json": {
              "version_major": 2,
              "version_minor": 0,
              "model_id": "6d104e22a9e34d17b10056c110643568"
            }
          },
          "metadata": {}
        },
        {
          "output_type": "stream",
          "name": "stdout",
          "text": [
            "Columns with single value:\n",
            " ['Fwd URG Flags' 'Bwd URG Flags' 'Fwd Byts/b Avg' 'Fwd Pkts/b Avg'\n",
            " 'Fwd Blk Rate Avg' 'Bwd Byts/b Avg' 'Bwd Pkts/b Avg' 'Bwd Blk Rate Avg'] \n",
            "\n",
            "Categorical columns:\n",
            " ['Fwd PSH Flags' 'Bwd PSH Flags' 'FIN Flag Cnt' 'SYN Flag Cnt'\n",
            " 'RST Flag Cnt' 'PSH Flag Cnt' 'ACK Flag Cnt' 'URG Flag Cnt'\n",
            " 'CWE Flag Count' 'ECE Flag Cnt' 'Label' 'y'] \n",
            "\n"
          ]
        }
      ],
      "source": [
        "drop_lst = []\n",
        "catfeat = []\n",
        "for col in tqdm(data.columns):\n",
        " if len(data[col].unique())==1:\n",
        "  drop_lst.append(col)\n",
        " elif len(data[col].unique())<=2:\n",
        "  catfeat.append(col)\n",
        "catfeat.append('y')\n",
        "print('Columns with single value:\\n',np.array(drop_lst),'\\n')\n",
        "print('Categorical columns:\\n',np.array(catfeat),'\\n')\n"
      ]
    },
    {
      "cell_type": "code",
      "execution_count": 9,
      "metadata": {
        "colab": {
          "base_uri": "https://localhost:8080/"
        },
        "id": "6C2OACfIakuB",
        "outputId": "a19f17e7-5cb4-454c-b0c2-46aad1188e52"
      },
      "outputs": [
        {
          "output_type": "stream",
          "name": "stdout",
          "text": [
            "Dataframe shape before trimming: (4000000, 85)\n",
            "\n",
            "Dropping following columns:\n",
            " ['Fwd URG Flags' 'Bwd URG Flags' 'Fwd Byts/b Avg' 'Fwd Pkts/b Avg'\n",
            " 'Fwd Blk Rate Avg' 'Bwd Byts/b Avg' 'Bwd Pkts/b Avg' 'Bwd Blk Rate Avg'\n",
            " 'Label' 'Flow ID' 'Timestamp' 'Unnamed: 0']\n",
            "\n",
            "Dataframe shape after trimming: (4000000, 73)\n"
          ]
        }
      ],
      "source": [
        "print('Dataframe shape before trimming:',data.shape)\n",
        "# final_data = data\n",
        "drop_lst.extend(['Label','Flow ID','Timestamp','Unnamed: 0'])\n",
        "print('\\nDropping following columns:\\n',np.array(drop_lst))\n",
        "final_data = data.drop(drop_lst,axis=1)\n",
        "print('\\nDataframe shape after trimming:',final_data.shape)\n"
      ]
    },
    {
      "cell_type": "code",
      "execution_count": 9,
      "metadata": {
        "id": "e650C27wcIA2"
      },
      "outputs": [],
      "source": []
    },
    {
      "cell_type": "code",
      "execution_count": 10,
      "metadata": {
        "id": "XlsvF2gNamU5"
      },
      "outputs": [],
      "source": [
        "final_data['y'] = cp.asarray(data['Label'].to_numpy() == 'ddos', dtype=cp.int32)\n",
        "final_data['Src IP'] = cp.array([int(''.join(x.split('.'))) for x in data['Src IP'].to_numpy()])\n",
        "final_data['Dst IP'] = cp.array([int(''.join(x.split('.'))) for x in data['Dst IP'].to_numpy()])\n"
      ]
    },
    {
      "cell_type": "code",
      "execution_count": 11,
      "metadata": {
        "colab": {
          "base_uri": "https://localhost:8080/",
          "height": 305
        },
        "id": "wjvT3wQFaoMY",
        "outputId": "54d12002-f607-4ed5-a7a2-4c9e0a45cef2"
      },
      "outputs": [
        {
          "output_type": "stream",
          "name": "stdout",
          "text": [
            "\n",
            "Final data shape: (4000000, 74)\n"
          ]
        },
        {
          "output_type": "execute_result",
          "data": {
            "text/plain": [
              "        Src IP  Src Port      Dst IP  Dst Port  Protocol  Flow Duration  \\\n",
              "0   1821919320     37882   172316925        80         6           8660   \n",
              "1    172316928        80     1821991     63287         6           5829   \n",
              "2   5214136135     63095   172316928        80         6           3396   \n",
              "3  18216200189     52341   172316928        80         6           2390   \n",
              "4    172316928        80  1821855126     57459         6          17362   \n",
              "\n",
              "   Tot Fwd Pkts  Tot Bwd Pkts  TotLen Fwd Pkts  TotLen Bwd Pkts  ...  \\\n",
              "0             1             1              0.0              0.0  ...   \n",
              "1             4             3            935.0            298.0  ...   \n",
              "2             1             1              0.0              0.0  ...   \n",
              "3             1             1              0.0              0.0  ...   \n",
              "4             4             3            935.0            314.0  ...   \n",
              "\n",
              "   Fwd Seg Size Min  Active Mean  Active Std  Active Max  Active Min  \\\n",
              "0                 0          0.0         0.0         0.0         0.0   \n",
              "1                 0          0.0         0.0         0.0         0.0   \n",
              "2                 0          0.0         0.0         0.0         0.0   \n",
              "3                 0          0.0         0.0         0.0         0.0   \n",
              "4                 0          0.0         0.0         0.0         0.0   \n",
              "\n",
              "   Idle Mean  Idle Std  Idle Max  Idle Min  y  \n",
              "0        0.0       0.0       0.0       0.0  1  \n",
              "1        0.0       0.0       0.0       0.0  1  \n",
              "2        0.0       0.0       0.0       0.0  1  \n",
              "3        0.0       0.0       0.0       0.0  1  \n",
              "4        0.0       0.0       0.0       0.0  1  \n",
              "\n",
              "[5 rows x 74 columns]"
            ],
            "text/html": [
              "<div>\n",
              "<style scoped>\n",
              "    .dataframe tbody tr th:only-of-type {\n",
              "        vertical-align: middle;\n",
              "    }\n",
              "\n",
              "    .dataframe tbody tr th {\n",
              "        vertical-align: top;\n",
              "    }\n",
              "\n",
              "    .dataframe thead th {\n",
              "        text-align: right;\n",
              "    }\n",
              "</style>\n",
              "<table border=\"1\" class=\"dataframe\">\n",
              "  <thead>\n",
              "    <tr style=\"text-align: right;\">\n",
              "      <th></th>\n",
              "      <th>Src IP</th>\n",
              "      <th>Src Port</th>\n",
              "      <th>Dst IP</th>\n",
              "      <th>Dst Port</th>\n",
              "      <th>Protocol</th>\n",
              "      <th>Flow Duration</th>\n",
              "      <th>Tot Fwd Pkts</th>\n",
              "      <th>Tot Bwd Pkts</th>\n",
              "      <th>TotLen Fwd Pkts</th>\n",
              "      <th>TotLen Bwd Pkts</th>\n",
              "      <th>...</th>\n",
              "      <th>Fwd Seg Size Min</th>\n",
              "      <th>Active Mean</th>\n",
              "      <th>Active Std</th>\n",
              "      <th>Active Max</th>\n",
              "      <th>Active Min</th>\n",
              "      <th>Idle Mean</th>\n",
              "      <th>Idle Std</th>\n",
              "      <th>Idle Max</th>\n",
              "      <th>Idle Min</th>\n",
              "      <th>y</th>\n",
              "    </tr>\n",
              "  </thead>\n",
              "  <tbody>\n",
              "    <tr>\n",
              "      <th>0</th>\n",
              "      <td>1821919320</td>\n",
              "      <td>37882</td>\n",
              "      <td>172316925</td>\n",
              "      <td>80</td>\n",
              "      <td>6</td>\n",
              "      <td>8660</td>\n",
              "      <td>1</td>\n",
              "      <td>1</td>\n",
              "      <td>0.0</td>\n",
              "      <td>0.0</td>\n",
              "      <td>...</td>\n",
              "      <td>0</td>\n",
              "      <td>0.0</td>\n",
              "      <td>0.0</td>\n",
              "      <td>0.0</td>\n",
              "      <td>0.0</td>\n",
              "      <td>0.0</td>\n",
              "      <td>0.0</td>\n",
              "      <td>0.0</td>\n",
              "      <td>0.0</td>\n",
              "      <td>1</td>\n",
              "    </tr>\n",
              "    <tr>\n",
              "      <th>1</th>\n",
              "      <td>172316928</td>\n",
              "      <td>80</td>\n",
              "      <td>1821991</td>\n",
              "      <td>63287</td>\n",
              "      <td>6</td>\n",
              "      <td>5829</td>\n",
              "      <td>4</td>\n",
              "      <td>3</td>\n",
              "      <td>935.0</td>\n",
              "      <td>298.0</td>\n",
              "      <td>...</td>\n",
              "      <td>0</td>\n",
              "      <td>0.0</td>\n",
              "      <td>0.0</td>\n",
              "      <td>0.0</td>\n",
              "      <td>0.0</td>\n",
              "      <td>0.0</td>\n",
              "      <td>0.0</td>\n",
              "      <td>0.0</td>\n",
              "      <td>0.0</td>\n",
              "      <td>1</td>\n",
              "    </tr>\n",
              "    <tr>\n",
              "      <th>2</th>\n",
              "      <td>5214136135</td>\n",
              "      <td>63095</td>\n",
              "      <td>172316928</td>\n",
              "      <td>80</td>\n",
              "      <td>6</td>\n",
              "      <td>3396</td>\n",
              "      <td>1</td>\n",
              "      <td>1</td>\n",
              "      <td>0.0</td>\n",
              "      <td>0.0</td>\n",
              "      <td>...</td>\n",
              "      <td>0</td>\n",
              "      <td>0.0</td>\n",
              "      <td>0.0</td>\n",
              "      <td>0.0</td>\n",
              "      <td>0.0</td>\n",
              "      <td>0.0</td>\n",
              "      <td>0.0</td>\n",
              "      <td>0.0</td>\n",
              "      <td>0.0</td>\n",
              "      <td>1</td>\n",
              "    </tr>\n",
              "    <tr>\n",
              "      <th>3</th>\n",
              "      <td>18216200189</td>\n",
              "      <td>52341</td>\n",
              "      <td>172316928</td>\n",
              "      <td>80</td>\n",
              "      <td>6</td>\n",
              "      <td>2390</td>\n",
              "      <td>1</td>\n",
              "      <td>1</td>\n",
              "      <td>0.0</td>\n",
              "      <td>0.0</td>\n",
              "      <td>...</td>\n",
              "      <td>0</td>\n",
              "      <td>0.0</td>\n",
              "      <td>0.0</td>\n",
              "      <td>0.0</td>\n",
              "      <td>0.0</td>\n",
              "      <td>0.0</td>\n",
              "      <td>0.0</td>\n",
              "      <td>0.0</td>\n",
              "      <td>0.0</td>\n",
              "      <td>1</td>\n",
              "    </tr>\n",
              "    <tr>\n",
              "      <th>4</th>\n",
              "      <td>172316928</td>\n",
              "      <td>80</td>\n",
              "      <td>1821855126</td>\n",
              "      <td>57459</td>\n",
              "      <td>6</td>\n",
              "      <td>17362</td>\n",
              "      <td>4</td>\n",
              "      <td>3</td>\n",
              "      <td>935.0</td>\n",
              "      <td>314.0</td>\n",
              "      <td>...</td>\n",
              "      <td>0</td>\n",
              "      <td>0.0</td>\n",
              "      <td>0.0</td>\n",
              "      <td>0.0</td>\n",
              "      <td>0.0</td>\n",
              "      <td>0.0</td>\n",
              "      <td>0.0</td>\n",
              "      <td>0.0</td>\n",
              "      <td>0.0</td>\n",
              "      <td>1</td>\n",
              "    </tr>\n",
              "  </tbody>\n",
              "</table>\n",
              "<p>5 rows × 74 columns</p>\n",
              "</div>"
            ]
          },
          "metadata": {},
          "execution_count": 11
        }
      ],
      "source": [
        "print('\\nFinal data shape:', final_data.shape)\n",
        "final_data.head()\n"
      ]
    },
    {
      "cell_type": "code",
      "execution_count": 12,
      "metadata": {
        "colab": {
          "base_uri": "https://localhost:8080/"
        },
        "id": "AgBVa5n1apzk",
        "outputId": "16d019bf-2562-4c86-bf67-95a7111b8965"
      },
      "outputs": [
        {
          "output_type": "stream",
          "name": "stdout",
          "text": [
            "63\n",
            "['Src IP' 'Src Port' 'Dst IP' 'Dst Port' 'Protocol' 'Flow Duration'\n",
            " 'Tot Fwd Pkts' 'Tot Bwd Pkts' 'TotLen Fwd Pkts' 'TotLen Bwd Pkts'\n",
            " 'Fwd Pkt Len Max' 'Fwd Pkt Len Min' 'Fwd Pkt Len Mean' 'Fwd Pkt Len Std'\n",
            " 'Bwd Pkt Len Max' 'Bwd Pkt Len Min' 'Bwd Pkt Len Mean' 'Bwd Pkt Len Std'\n",
            " 'Flow Byts/s' 'Flow Pkts/s' 'Flow IAT Mean' 'Flow IAT Std' 'Flow IAT Max'\n",
            " 'Flow IAT Min' 'Fwd IAT Tot' 'Fwd IAT Mean' 'Fwd IAT Std' 'Fwd IAT Max'\n",
            " 'Fwd IAT Min' 'Bwd IAT Tot' 'Bwd IAT Mean' 'Bwd IAT Std' 'Bwd IAT Max'\n",
            " 'Bwd IAT Min' 'Fwd Header Len' 'Bwd Header Len' 'Fwd Pkts/s' 'Bwd Pkts/s'\n",
            " 'Pkt Len Min' 'Pkt Len Max' 'Pkt Len Mean' 'Pkt Len Std' 'Pkt Len Var'\n",
            " 'Down/Up Ratio' 'Pkt Size Avg' 'Fwd Seg Size Avg' 'Bwd Seg Size Avg'\n",
            " 'Subflow Fwd Pkts' 'Subflow Fwd Byts' 'Subflow Bwd Pkts'\n",
            " 'Subflow Bwd Byts' 'Init Fwd Win Byts' 'Init Bwd Win Byts'\n",
            " 'Fwd Act Data Pkts' 'Fwd Seg Size Min' 'Active Mean' 'Active Std'\n",
            " 'Active Max' 'Active Min' 'Idle Mean' 'Idle Std' 'Idle Max' 'Idle Min']\n",
            "74\n",
            "Index(['Src IP', 'Src Port', 'Dst IP', 'Dst Port', 'Protocol', 'Flow Duration',\n",
            "       'Tot Fwd Pkts', 'Tot Bwd Pkts', 'TotLen Fwd Pkts', 'TotLen Bwd Pkts',\n",
            "       'Fwd Pkt Len Max', 'Fwd Pkt Len Min', 'Fwd Pkt Len Mean',\n",
            "       'Fwd Pkt Len Std', 'Bwd Pkt Len Max', 'Bwd Pkt Len Min',\n",
            "       'Bwd Pkt Len Mean', 'Bwd Pkt Len Std', 'Flow Byts/s', 'Flow Pkts/s',\n",
            "       'Flow IAT Mean', 'Flow IAT Std', 'Flow IAT Max', 'Flow IAT Min',\n",
            "       'Fwd IAT Tot', 'Fwd IAT Mean', 'Fwd IAT Std', 'Fwd IAT Max',\n",
            "       'Fwd IAT Min', 'Bwd IAT Tot', 'Bwd IAT Mean', 'Bwd IAT Std',\n",
            "       'Bwd IAT Max', 'Bwd IAT Min', 'Fwd PSH Flags', 'Bwd PSH Flags',\n",
            "       'Fwd Header Len', 'Bwd Header Len', 'Fwd Pkts/s', 'Bwd Pkts/s',\n",
            "       'Pkt Len Min', 'Pkt Len Max', 'Pkt Len Mean', 'Pkt Len Std',\n",
            "       'Pkt Len Var', 'FIN Flag Cnt', 'SYN Flag Cnt', 'RST Flag Cnt',\n",
            "       'PSH Flag Cnt', 'ACK Flag Cnt', 'URG Flag Cnt', 'CWE Flag Count',\n",
            "       'ECE Flag Cnt', 'Down/Up Ratio', 'Pkt Size Avg', 'Fwd Seg Size Avg',\n",
            "       'Bwd Seg Size Avg', 'Subflow Fwd Pkts', 'Subflow Fwd Byts',\n",
            "       'Subflow Bwd Pkts', 'Subflow Bwd Byts', 'Init Fwd Win Byts',\n",
            "       'Init Bwd Win Byts', 'Fwd Act Data Pkts', 'Fwd Seg Size Min',\n",
            "       'Active Mean', 'Active Std', 'Active Max', 'Active Min', 'Idle Mean',\n",
            "       'Idle Std', 'Idle Max', 'Idle Min', 'y'],\n",
            "      dtype='object')\n"
          ]
        }
      ],
      "source": [
        "lst = [i for i in final_data.columns if i not in catfeat]\n",
        "print(len(lst))\n",
        "print(np.array(lst))\n",
        "print(len(final_data.columns))\n",
        "print(final_data.columns)"
      ]
    },
    {
      "cell_type": "code",
      "execution_count": 13,
      "metadata": {
        "id": "jRTtKKaxareQ"
      },
      "outputs": [],
      "source": [
        "del data"
      ]
    },
    {
      "cell_type": "code",
      "execution_count": 14,
      "metadata": {
        "colab": {
          "base_uri": "https://localhost:8080/"
        },
        "id": "NI6yUY8ratms",
        "outputId": "b3330184-89d1-4cef-aee9-369151085df0"
      },
      "outputs": [
        {
          "output_type": "execute_result",
          "data": {
            "text/plain": [
              "0"
            ]
          },
          "metadata": {},
          "execution_count": 14
        }
      ],
      "source": [
        "import gc\n",
        "gc.collect()"
      ]
    },
    {
      "cell_type": "code",
      "execution_count": 15,
      "metadata": {
        "colab": {
          "base_uri": "https://localhost:8080/",
          "height": 507
        },
        "id": "Q6OLQ2QWavBx",
        "outputId": "ac827f70-3c07-49db-de09-62795d427fc4"
      },
      "outputs": [
        {
          "output_type": "stream",
          "name": "stdout",
          "text": [
            "No. of Attacks classified as DDoS= 1294529\n",
            "No. of Attacks NOT classified as DDoS= 2705471\n"
          ]
        },
        {
          "output_type": "display_data",
          "data": {
            "text/plain": [
              "<Figure size 640x480 with 1 Axes>"
            ],
            "image/png": "[encoded data removed]"
          },
          "metadata": {}
        }
      ],
      "source": [
        "labels=final_data['y']\n",
        "labels.head()\n",
        "labels_array=labels.to_numpy()\n",
        "yes_count = np.sum(labels_array == 1)\n",
        "no_count = np.sum(labels_array == 0)\n",
        "print(\"No. of Attacks classified as DDoS=\",yes_count)\n",
        "print(\"No. of Attacks NOT classified as DDoS=\",no_count)\n",
        "\n",
        "# Data\n",
        "alllabels = ['Yes', 'No']\n",
        "counts = [yes_count, no_count]\n",
        "\n",
        "# Plot\n",
        "plt.bar(alllabels, counts, color=['red', 'green'])\n",
        "plt.title('Yes/No Classification of DDoS')\n",
        "plt.xlabel('Response')\n",
        "plt.ylabel('Count')\n",
        "plt.show()\n",
        "del(labels_array)\n",
        "del(yes_count)\n",
        "del(no_count)\n",
        "del(alllabels)\n",
        "del(counts)"
      ]
    },
    {
      "cell_type": "code",
      "execution_count": 16,
      "metadata": {
        "colab": {
          "base_uri": "https://localhost:8080/"
        },
        "id": "GksMU18aaww4",
        "outputId": "5490fbb6-d06f-4d34-ae24-74d61eb5eb59"
      },
      "outputs": [
        {
          "output_type": "execute_result",
          "data": {
            "text/plain": [
              "3984"
            ]
          },
          "metadata": {},
          "execution_count": 16
        }
      ],
      "source": [
        "import gc\n",
        "gc.collect()"
      ]
    },
    {
      "cell_type": "code",
      "execution_count": 17,
      "metadata": {
        "colab": {
          "base_uri": "https://localhost:8080/",
          "height": 564
        },
        "id": "BXLftMHxfoHp",
        "outputId": "960c1e16-a43e-4fa3-9b98-b852e633f21e"
      },
      "outputs": [
        {
          "output_type": "display_data",
          "data": {
            "text/plain": [
              "<Figure size 800x600 with 1 Axes>"
            ],
            "image/png": "[encoded data removed]"
          },
          "metadata": {}
        }
      ],
      "source": [
        "final_data['Flow Duration'].head()\n",
        "flow_duration_data = np.sort(final_data['Flow Duration'])\n",
        "exceedance_probability = np.linspace(0, 100, len(flow_duration_data))\n",
        "\n",
        "# Plot\n",
        "plt.figure(figsize=(8, 6))\n",
        "plt.plot(exceedance_probability, flow_duration_data, marker='.', linestyle='-')\n",
        "plt.title('Flow Duration Curve')\n",
        "plt.xlabel('Exceedance Probability (%)')\n",
        "plt.ylabel('Flow')\n",
        "plt.grid(True)\n",
        "plt.show()\n",
        "del(flow_duration_data)\n",
        "del(exceedance_probability)"
      ]
    },
    {
      "cell_type": "code",
      "execution_count": 18,
      "metadata": {
        "colab": {
          "base_uri": "https://localhost:8080/"
        },
        "id": "zqBmcarpayc8",
        "outputId": "fef35b6e-6eb8-4b75-c23e-f0671d0efb98"
      },
      "outputs": [
        {
          "output_type": "execute_result",
          "data": {
            "text/plain": [
              "3580"
            ]
          },
          "metadata": {},
          "execution_count": 18
        }
      ],
      "source": [
        "import gc\n",
        "gc.collect()"
      ]
    },
    {
      "cell_type": "code",
      "execution_count": 19,
      "metadata": {
        "colab": {
          "base_uri": "https://localhost:8080/",
          "height": 472
        },
        "id": "6T9SwT90a0Jj",
        "outputId": "a99be2ad-faf9-49b6-d0ac-7785edef3fdc"
      },
      "outputs": [
        {
          "output_type": "display_data",
          "data": {
            "text/plain": [
              "<Figure size 640x480 with 1 Axes>"
            ],
            "image/png": "[encoded data removed]"
          },
          "metadata": {}
        }
      ],
      "source": [
        "totfwd=final_data['Tot Fwd Pkts'].to_numpy()\n",
        "totbwd=final_data['Tot Bwd Pkts'].to_numpy()\n",
        "plt.scatter(totfwd, totbwd)\n",
        "plt.title('Tot Fwd Pkts vs Tot Bwd Pkts')\n",
        "plt.xlabel('Tot Fwd Pkts')\n",
        "plt.ylabel('Tot Bwd Pkts')\n",
        "plt.grid(True)\n",
        "plt.show()\n",
        "del(totfwd)\n",
        "del(totbwd)"
      ]
    },
    {
      "cell_type": "code",
      "execution_count": 20,
      "metadata": {
        "colab": {
          "base_uri": "https://localhost:8080/",
          "height": 472
        },
        "id": "IPn7yd2okwBV",
        "outputId": "acda55d3-2812-437f-a399-19754d81aefb"
      },
      "outputs": [
        {
          "output_type": "display_data",
          "data": {
            "text/plain": [
              "<Figure size 640x480 with 1 Axes>"
            ],
            "image/png": "[encoded data removed]"
          },
          "metadata": {}
        }
      ],
      "source": [
        "pc=final_data['Protocol'].to_numpy()\n",
        "unique_protocols, protocol_counts = np.unique(pc, return_counts=True)\n",
        "\n",
        "# Plot\n",
        "plt.bar([0,6,17], protocol_counts, width=0.8)  # Set width as desired\n",
        "plt.title('Protocol Distribution')\n",
        "plt.xlabel('Protocol')\n",
        "plt.ylabel('Count')\n",
        "\n",
        "# Set x-axis tick positions and labels\n",
        "plt.xticks([0,6,17], unique_protocols)\n",
        "\n",
        "plt.show()\n",
        "\n"
      ]
    },
    {
      "cell_type": "code",
      "execution_count": 21,
      "metadata": {
        "colab": {
          "base_uri": "https://localhost:8080/"
        },
        "id": "4SQyMCQra1sF",
        "outputId": "528bafbf-e787-409d-ad5d-4180a0412c9a"
      },
      "outputs": [
        {
          "output_type": "stream",
          "name": "stdout",
          "text": [
            "<class 'cudf.core.dataframe.DataFrame'>\n"
          ]
        }
      ],
      "source": [
        "import gc\n",
        "gc.collect()\n",
        "print(type(final_data))\n",
        "del(unique_protocols)\n",
        "del(protocol_counts)"
      ]
    },
    {
      "cell_type": "code",
      "execution_count": 22,
      "metadata": {
        "colab": {
          "base_uri": "https://localhost:8080/"
        },
        "id": "YrR1hDFNodfj",
        "outputId": "f3c8f3c0-7145-465c-d7d0-c4f0692a61fd"
      },
      "outputs": [
        {
          "output_type": "execute_result",
          "data": {
            "text/plain": [
              "0"
            ]
          },
          "metadata": {},
          "execution_count": 22
        }
      ],
      "source": [
        "import gc\n",
        "gc.collect()"
      ]
    },
    {
      "cell_type": "code",
      "execution_count": 23,
      "metadata": {
        "id": "TkmmyzRZa3R-"
      },
      "outputs": [],
      "source": [
        "from cuml.model_selection import train_test_split\n",
        "X_train, X_test, y_train, y_test = train_test_split(final_data.drop('y', axis=1), final_data['y'], test_size=0.2, random_state=42, stratify=final_data['y'])\n"
      ]
    },
    {
      "cell_type": "code",
      "execution_count": 24,
      "metadata": {
        "colab": {
          "base_uri": "https://localhost:8080/",
          "height": 49,
          "referenced_widgets": [
            "7dc42322fe2c438ea52fdc1363d5e61b",
            "802c4edcf5bd457bad3ebb61f3b4803b",
            "17bce6920b4e4aee9b2d9dc37f959a79",
            "c2e99bac2c93483bb4c1bc0a04540297",
            "696b3d2329c04dd7a4026a27cb2d3951",
            "d2e3e0b1230d477ab29db581325a8eb3",
            "15796ccb24b74f38a85482191e6f8ffe",
            "0fe0610203ed4dbd8eac2ca0dd5cd32f",
            "3518482b948449cdb039c5db42cbaf3c",
            "356be8ab685648b0a5fed41802bb9875",
            "6696169fae1449a4a4eb2ff82b3e43cb"
          ]
        },
        "id": "xriuTk5na5bJ",
        "outputId": "b73a974b-2e85-45dc-8660-61fb04d89c0e"
      },
      "outputs": [
        {
          "output_type": "display_data",
          "data": {
            "text/plain": [
              "  0%|          | 0/63 [00:00<?, ?it/s]"
            ],
            "application/vnd.jupyter.widget-view+json": {
              "version_major": 2,
              "version_minor": 0,
              "model_id": "7dc42322fe2c438ea52fdc1363d5e61b"
            }
          },
          "metadata": {}
        }
      ],
      "source": [
        "for i in tqdm(lst):\n",
        " minimum = X_train[i].min()\n",
        " maximum = X_train[i].max()\n",
        " X_train[i] = (X_train[i] - minimum)/(maximum - minimum)\n",
        " X_test[i] = (X_test[i] - minimum)/(maximum - minimum)"
      ]
    },
    {
      "cell_type": "code",
      "execution_count": 25,
      "metadata": {
        "colab": {
          "base_uri": "https://localhost:8080/",
          "height": 377
        },
        "id": "OdNC_--ya72A",
        "outputId": "1fc9d788-b99b-4f83-d603-78f4485d77c9"
      },
      "outputs": [
        {
          "output_type": "execute_result",
          "data": {
            "text/plain": [
              "           Src IP  Src Port    Dst IP  Dst Port  Protocol  Flow Duration  \\\n",
              "1796069  0.008608  0.885542  0.041989  0.006760  0.352941   4.166667e-08   \n",
              "3231758  0.000772  0.776013  0.020455  0.006760  0.352941   4.826234e-01   \n",
              "1602638  0.000772  0.852125  0.000007  0.000809  1.000000   3.525000e-06   \n",
              "2056701  0.008653  0.814755  0.000675  0.051714  0.352941   2.770821e-02   \n",
              "1397320  0.000772  0.763256  0.059196  0.006760  0.352941   9.722879e-01   \n",
              "\n",
              "         Tot Fwd Pkts  Tot Bwd Pkts  TotLen Fwd Pkts  TotLen Bwd Pkts  ...  \\\n",
              "1796069      0.000004      0.000003         0.000000     0.000000e+00  ...   \n",
              "3231758      0.000081      0.000058         0.000242     1.054601e-05  ...   \n",
              "1602638      0.000004      0.000003         0.000005     9.048352e-08  ...   \n",
              "2056701      0.000031      0.000027         0.000138     2.466456e-06  ...   \n",
              "1397320      0.000054      0.000055         0.000098     1.669733e-05  ...   \n",
              "\n",
              "         Fwd Act Data Pkts  Fwd Seg Size Min  Active Mean  Active Std  \\\n",
              "1796069           0.000000          0.000000     0.000000    0.000000   \n",
              "3231758           0.000042          0.416667     0.006995    0.022806   \n",
              "1602638           0.000000          0.166667     0.000000    0.000000   \n",
              "2056701           0.000019          0.416667     0.000000    0.000000   \n",
              "1397320           0.000027          0.416667     0.001502    0.001974   \n",
              "\n",
              "         Active Max  Active Min  Idle Mean  Idle Std  Idle Max  Idle Min  \n",
              "1796069    0.000000    0.000000   0.000000  0.000000  0.000000  0.000000  \n",
              "3231758    0.034559    0.000104   0.083761  0.001406  0.084797  0.082499  \n",
              "1602638    0.000000    0.000000   0.000000  0.000000  0.000000  0.000000  \n",
              "2056701    0.000000    0.000000   0.000000  0.000000  0.000000  0.000000  \n",
              "1397320    0.002445    0.000559   0.484491  0.002056  0.485398  0.483585  \n",
              "\n",
              "[5 rows x 73 columns]"
            ],
            "text/html": [
              "<div>\n",
              "<style scoped>\n",
              "    .dataframe tbody tr th:only-of-type {\n",
              "        vertical-align: middle;\n",
              "    }\n",
              "\n",
              "    .dataframe tbody tr th {\n",
              "        vertical-align: top;\n",
              "    }\n",
              "\n",
              "    .dataframe thead th {\n",
              "        text-align: right;\n",
              "    }\n",
              "</style>\n",
              "<table border=\"1\" class=\"dataframe\">\n",
              "  <thead>\n",
              "    <tr style=\"text-align: right;\">\n",
              "      <th></th>\n",
              "      <th>Src IP</th>\n",
              "      <th>Src Port</th>\n",
              "      <th>Dst IP</th>\n",
              "      <th>Dst Port</th>\n",
              "      <th>Protocol</th>\n",
              "      <th>Flow Duration</th>\n",
              "      <th>Tot Fwd Pkts</th>\n",
              "      <th>Tot Bwd Pkts</th>\n",
              "      <th>TotLen Fwd Pkts</th>\n",
              "      <th>TotLen Bwd Pkts</th>\n",
              "      <th>...</th>\n",
              "      <th>Fwd Act Data Pkts</th>\n",
              "      <th>Fwd Seg Size Min</th>\n",
              "      <th>Active Mean</th>\n",
              "      <th>Active Std</th>\n",
              "      <th>Active Max</th>\n",
              "      <th>Active Min</th>\n",
              "      <th>Idle Mean</th>\n",
              "      <th>Idle Std</th>\n",
              "      <th>Idle Max</th>\n",
              "      <th>Idle Min</th>\n",
              "    </tr>\n",
              "  </thead>\n",
              "  <tbody>\n",
              "    <tr>\n",
              "      <th>1796069</th>\n",
              "      <td>0.008608</td>\n",
              "      <td>0.885542</td>\n",
              "      <td>0.041989</td>\n",
              "      <td>0.006760</td>\n",
              "      <td>0.352941</td>\n",
              "      <td>4.166667e-08</td>\n",
              "      <td>0.000004</td>\n",
              "      <td>0.000003</td>\n",
              "      <td>0.000000</td>\n",
              "      <td>0.000000e+00</td>\n",
              "      <td>...</td>\n",
              "      <td>0.000000</td>\n",
              "      <td>0.000000</td>\n",
              "      <td>0.000000</td>\n",
              "      <td>0.000000</td>\n",
              "      <td>0.000000</td>\n",
              "      <td>0.000000</td>\n",
              "      <td>0.000000</td>\n",
              "      <td>0.000000</td>\n",
              "      <td>0.000000</td>\n",
              "      <td>0.000000</td>\n",
              "    </tr>\n",
              "    <tr>\n",
              "      <th>3231758</th>\n",
              "      <td>0.000772</td>\n",
              "      <td>0.776013</td>\n",
              "      <td>0.020455</td>\n",
              "      <td>0.006760</td>\n",
              "      <td>0.352941</td>\n",
              "      <td>4.826234e-01</td>\n",
              "      <td>0.000081</td>\n",
              "      <td>0.000058</td>\n",
              "      <td>0.000242</td>\n",
              "      <td>1.054601e-05</td>\n",
              "      <td>...</td>\n",
              "      <td>0.000042</td>\n",
              "      <td>0.416667</td>\n",
              "      <td>0.006995</td>\n",
              "      <td>0.022806</td>\n",
              "      <td>0.034559</td>\n",
              "      <td>0.000104</td>\n",
              "      <td>0.083761</td>\n",
              "      <td>0.001406</td>\n",
              "      <td>0.084797</td>\n",
              "      <td>0.082499</td>\n",
              "    </tr>\n",
              "    <tr>\n",
              "      <th>1602638</th>\n",
              "      <td>0.000772</td>\n",
              "      <td>0.852125</td>\n",
              "      <td>0.000007</td>\n",
              "      <td>0.000809</td>\n",
              "      <td>1.000000</td>\n",
              "      <td>3.525000e-06</td>\n",
              "      <td>0.000004</td>\n",
              "      <td>0.000003</td>\n",
              "      <td>0.000005</td>\n",
              "      <td>9.048352e-08</td>\n",
              "      <td>...</td>\n",
              "      <td>0.000000</td>\n",
              "      <td>0.166667</td>\n",
              "      <td>0.000000</td>\n",
              "      <td>0.000000</td>\n",
              "      <td>0.000000</td>\n",
              "      <td>0.000000</td>\n",
              "      <td>0.000000</td>\n",
              "      <td>0.000000</td>\n",
              "      <td>0.000000</td>\n",
              "      <td>0.000000</td>\n",
              "    </tr>\n",
              "    <tr>\n",
              "      <th>2056701</th>\n",
              "      <td>0.008653</td>\n",
              "      <td>0.814755</td>\n",
              "      <td>0.000675</td>\n",
              "      <td>0.051714</td>\n",
              "      <td>0.352941</td>\n",
              "      <td>2.770821e-02</td>\n",
              "      <td>0.000031</td>\n",
              "      <td>0.000027</td>\n",
              "      <td>0.000138</td>\n",
              "      <td>2.466456e-06</td>\n",
              "      <td>...</td>\n",
              "      <td>0.000019</td>\n",
              "      <td>0.416667</td>\n",
              "      <td>0.000000</td>\n",
              "      <td>0.000000</td>\n",
              "      <td>0.000000</td>\n",
              "      <td>0.000000</td>\n",
              "      <td>0.000000</td>\n",
              "      <td>0.000000</td>\n",
              "      <td>0.000000</td>\n",
              "      <td>0.000000</td>\n",
              "    </tr>\n",
              "    <tr>\n",
              "      <th>1397320</th>\n",
              "      <td>0.000772</td>\n",
              "      <td>0.763256</td>\n",
              "      <td>0.059196</td>\n",
              "      <td>0.006760</td>\n",
              "      <td>0.352941</td>\n",
              "      <td>9.722879e-01</td>\n",
              "      <td>0.000054</td>\n",
              "      <td>0.000055</td>\n",
              "      <td>0.000098</td>\n",
              "      <td>1.669733e-05</td>\n",
              "      <td>...</td>\n",
              "      <td>0.000027</td>\n",
              "      <td>0.416667</td>\n",
              "      <td>0.001502</td>\n",
              "      <td>0.001974</td>\n",
              "      <td>0.002445</td>\n",
              "      <td>0.000559</td>\n",
              "      <td>0.484491</td>\n",
              "      <td>0.002056</td>\n",
              "      <td>0.485398</td>\n",
              "      <td>0.483585</td>\n",
              "    </tr>\n",
              "  </tbody>\n",
              "</table>\n",
              "<p>5 rows × 73 columns</p>\n",
              "</div>"
            ]
          },
          "metadata": {},
          "execution_count": 25
        }
      ],
      "source": [
        "X_train.head()\n"
      ]
    },
    {
      "cell_type": "code",
      "execution_count": 26,
      "metadata": {
        "id": "3Qr_zPs1a9Rz"
      },
      "outputs": [],
      "source": [
        "del final_data\n"
      ]
    },
    {
      "cell_type": "code",
      "execution_count": 27,
      "metadata": {
        "colab": {
          "base_uri": "https://localhost:8080/"
        },
        "id": "Ye9htyBea-3w",
        "outputId": "09ff3805-6dd1-48f6-8de8-b1de203623bb"
      },
      "outputs": [
        {
          "output_type": "execute_result",
          "data": {
            "text/plain": [
              "2258"
            ]
          },
          "metadata": {},
          "execution_count": 27
        }
      ],
      "source": [
        "import gc\n",
        "gc.collect()"
      ]
    },
    {
      "cell_type": "code",
      "execution_count": 28,
      "metadata": {
        "colab": {
          "base_uri": "https://localhost:8080/"
        },
        "id": "1a3OWXKzbAqg",
        "outputId": "fd90dea6-4587-4231-b6c1-18caa6c5b6a5"
      },
      "outputs": [
        {
          "output_type": "execute_result",
          "data": {
            "text/plain": [
              "235"
            ]
          },
          "metadata": {},
          "execution_count": 28
        }
      ],
      "source": [
        "import gc\n",
        "gc.collect()"
      ]
    },
    {
      "cell_type": "code",
      "execution_count": 29,
      "metadata": {
        "id": "KEg5ZuuhbCDu"
      },
      "outputs": [],
      "source": [
        "def cross_validation(mod):\n",
        " print('calling cross_val_score with cv=5 for test data:')\n",
        " scoring = ['f1', 'f1_macro']\n",
        " scores = cross_validate(mod, X_test_cpu, y_test_cpu, cv=5, scoring=scoring)\n",
        " return scores"
      ]
    },
    {
      "cell_type": "code",
      "execution_count": 30,
      "metadata": {
        "colab": {
          "base_uri": "https://localhost:8080/",
          "height": 412
        },
        "id": "LHO4bcw6ip1T",
        "outputId": "45986518-474c-4e40-8de2-473dc87d339c"
      },
      "outputs": [
        {
          "output_type": "stream",
          "name": "stdout",
          "text": [
            "Fitting 2 folds for each of 4 candidates, totalling 8 fits\n",
            "[CV 1/2; 1/4] START C=0.05......................................................\n",
            "[CV 1/2; 1/4] END .......................C=0.05;, score=0.961 total time=  39.5s\n",
            "[CV 2/2; 1/4] START C=0.05......................................................\n",
            "[CV 2/2; 1/4] END .......................C=0.05;, score=0.961 total time=  42.1s\n",
            "[CV 1/2; 2/4] START C=0.5.......................................................\n",
            "[CV 1/2; 2/4] END ........................C=0.5;, score=0.975 total time=  37.3s\n",
            "[CV 2/2; 2/4] START C=0.5.......................................................\n",
            "[CV 2/2; 2/4] END ........................C=0.5;, score=0.975 total time=  36.9s\n",
            "[CV 1/2; 3/4] START C=50........................................................\n",
            "[CV 1/2; 3/4] END .........................C=50;, score=0.978 total time=  36.9s\n",
            "[CV 2/2; 3/4] START C=50........................................................\n",
            "[CV 2/2; 3/4] END .........................C=50;, score=0.978 total time=  37.7s\n",
            "[CV 1/2; 4/4] START C=500.......................................................\n",
            "[CV 1/2; 4/4] END ........................C=500;, score=0.977 total time=  37.6s\n",
            "[CV 2/2; 4/4] START C=500.......................................................\n",
            "[CV 2/2; 4/4] END ........................C=500;, score=0.977 total time=  38.7s\n"
          ]
        },
        {
          "output_type": "execute_result",
          "data": {
            "text/plain": [
              "RandomizedSearchCV(cv=2, estimator=LogisticRegression(n_jobs=-1),\n",
              "                   param_distributions={'C': [0.05, 0.5, 50, 500]},\n",
              "                   scoring='f1', verbose=10)"
            ],
            "text/html": [
              "<style>#sk-container-id-1 {color: black;background-color: white;}#sk-container-id-1 pre{padding: 0;}#sk-container-id-1 div.sk-toggleable {background-color: white;}#sk-container-id-1 label.sk-toggleable__label {cursor: pointer;display: block;width: 100%;margin-bottom: 0;padding: 0.3em;box-sizing: border-box;text-align: center;}#sk-container-id-1 label.sk-toggleable__label-arrow:before {content: \"▸\";float: left;margin-right: 0.25em;color: #696969;}#sk-container-id-1 label.sk-toggleable__label-arrow:hover:before {color: black;}#sk-container-id-1 div.sk-estimator:hover label.sk-toggleable__label-arrow:before {color: black;}#sk-container-id-1 div.sk-toggleable__content {max-height: 0;max-width: 0;overflow: hidden;text-align: left;background-color: #f0f8ff;}#sk-container-id-1 div.sk-toggleable__content pre {margin: 0.2em;color: black;border-radius: 0.25em;background-color: #f0f8ff;}#sk-container-id-1 input.sk-toggleable__control:checked~div.sk-toggleable__content {max-height: 200px;max-width: 100%;overflow: auto;}#sk-container-id-1 input.sk-toggleable__control:checked~label.sk-toggleable__label-arrow:before {content: \"▾\";}#sk-container-id-1 div.sk-estimator input.sk-toggleable__control:checked~label.sk-toggleable__label {background-color: #d4ebff;}#sk-container-id-1 div.sk-label input.sk-toggleable__control:checked~label.sk-toggleable__label {background-color: #d4ebff;}#sk-container-id-1 input.sk-hidden--visually {border: 0;clip: rect(1px 1px 1px 1px);clip: rect(1px, 1px, 1px, 1px);height: 1px;margin: -1px;overflow: hidden;padding: 0;position: absolute;width: 1px;}#sk-container-id-1 div.sk-estimator {font-family: monospace;background-color: #f0f8ff;border: 1px dotted black;border-radius: 0.25em;box-sizing: border-box;margin-bottom: 0.5em;}#sk-container-id-1 div.sk-estimator:hover {background-color: #d4ebff;}#sk-container-id-1 div.sk-parallel-item::after {content: \"\";width: 100%;border-bottom: 1px solid gray;flex-grow: 1;}#sk-container-id-1 div.sk-label:hover label.sk-toggleable__label {background-color: #d4ebff;}#sk-container-id-1 div.sk-serial::before {content: \"\";position: absolute;border-left: 1px solid gray;box-sizing: border-box;top: 0;bottom: 0;left: 50%;z-index: 0;}#sk-container-id-1 div.sk-serial {display: flex;flex-direction: column;align-items: center;background-color: white;padding-right: 0.2em;padding-left: 0.2em;position: relative;}#sk-container-id-1 div.sk-item {position: relative;z-index: 1;}#sk-container-id-1 div.sk-parallel {display: flex;align-items: stretch;justify-content: center;background-color: white;position: relative;}#sk-container-id-1 div.sk-item::before, #sk-container-id-1 div.sk-parallel-item::before {content: \"\";position: absolute;border-left: 1px solid gray;box-sizing: border-box;top: 0;bottom: 0;left: 50%;z-index: -1;}#sk-container-id-1 div.sk-parallel-item {display: flex;flex-direction: column;z-index: 1;position: relative;background-color: white;}#sk-container-id-1 div.sk-parallel-item:first-child::after {align-self: flex-end;width: 50%;}#sk-container-id-1 div.sk-parallel-item:last-child::after {align-self: flex-start;width: 50%;}#sk-container-id-1 div.sk-parallel-item:only-child::after {width: 0;}#sk-container-id-1 div.sk-dashed-wrapped {border: 1px dashed gray;margin: 0 0.4em 0.5em 0.4em;box-sizing: border-box;padding-bottom: 0.4em;background-color: white;}#sk-container-id-1 div.sk-label label {font-family: monospace;font-weight: bold;display: inline-block;line-height: 1.2em;}#sk-container-id-1 div.sk-label-container {text-align: center;}#sk-container-id-1 div.sk-container {/* jupyter's `normalize.less` sets `[hidden] { display: none; }` but bootstrap.min.css set `[hidden] { display: none !important; }` so we also need the `!important` here to be able to override the default hidden behavior on the sphinx rendered scikit-learn.org. See: https://github.com/scikit-learn/scikit-learn/issues/21755 */display: inline-block !important;position: relative;}#sk-container-id-1 div.sk-text-repr-fallback {display: none;}</style><div id=\"sk-container-id-1\" class=\"sk-top-container\"><div class=\"sk-text-repr-fallback\"><pre>RandomizedSearchCV(cv=2, estimator=LogisticRegression(n_jobs=-1),\n",
              "                   param_distributions={&#x27;C&#x27;: [0.05, 0.5, 50, 500]},\n",
              "                   scoring=&#x27;f1&#x27;, verbose=10)</pre><b>In a Jupyter environment, please rerun this cell to show the HTML representation or trust the notebook. <br />On GitHub, the HTML representation is unable to render, please try loading this page with nbviewer.org.</b></div><div class=\"sk-container\" hidden><div class=\"sk-item sk-dashed-wrapped\"><div class=\"sk-label-container\"><div class=\"sk-label sk-toggleable\"><input class=\"sk-toggleable__control sk-hidden--visually\" id=\"sk-estimator-id-1\" type=\"checkbox\" ><label for=\"sk-estimator-id-1\" class=\"sk-toggleable__label sk-toggleable__label-arrow\">RandomizedSearchCV</label><div class=\"sk-toggleable__content\"><pre>RandomizedSearchCV(cv=2, estimator=LogisticRegression(n_jobs=-1),\n",
              "                   param_distributions={&#x27;C&#x27;: [0.05, 0.5, 50, 500]},\n",
              "                   scoring=&#x27;f1&#x27;, verbose=10)</pre></div></div></div><div class=\"sk-parallel\"><div class=\"sk-parallel-item\"><div class=\"sk-item\"><div class=\"sk-label-container\"><div class=\"sk-label sk-toggleable\"><input class=\"sk-toggleable__control sk-hidden--visually\" id=\"sk-estimator-id-2\" type=\"checkbox\" ><label for=\"sk-estimator-id-2\" class=\"sk-toggleable__label sk-toggleable__label-arrow\">estimator: LogisticRegression</label><div class=\"sk-toggleable__content\"><pre>LogisticRegression(n_jobs=-1)</pre></div></div></div><div class=\"sk-serial\"><div class=\"sk-item\"><div class=\"sk-estimator sk-toggleable\"><input class=\"sk-toggleable__control sk-hidden--visually\" id=\"sk-estimator-id-3\" type=\"checkbox\" ><label for=\"sk-estimator-id-3\" class=\"sk-toggleable__label sk-toggleable__label-arrow\">LogisticRegression</label><div class=\"sk-toggleable__content\"><pre>LogisticRegression(n_jobs=-1)</pre></div></div></div></div></div></div></div></div></div></div>"
            ]
          },
          "metadata": {},
          "execution_count": 30
        }
      ],
      "source": [
        "X_train_cpu = X_train.to_numpy()\n",
        "y_train_cpu = y_train.to_numpy()\n",
        "\n",
        "# Model training on CPU with scikit-learn\n",
        "params = {'C': [0.05, 0.5, 50, 500]}\n",
        "x_clf_1 = LogisticRegression(n_jobs=-1)\n",
        "random_clf_1 = RandomizedSearchCV(x_clf_1, param_distributions=params, scoring='f1', verbose=10, cv=2)\n",
        "random_clf_1.fit(X_train_cpu, y_train_cpu)\n"
      ]
    },
    {
      "cell_type": "code",
      "execution_count": 31,
      "metadata": {
        "colab": {
          "base_uri": "https://localhost:8080/"
        },
        "id": "r0LGwvhMuBJB",
        "outputId": "968899ad-25b4-4ec4-c631-2d95b258b024"
      },
      "outputs": [
        {
          "output_type": "stream",
          "name": "stdout",
          "text": [
            "{'C': 50}\n",
            "0.9779744601072313\n"
          ]
        }
      ],
      "source": [
        "print(random_clf_1.best_params_)\n",
        "print(random_clf_1.best_score_)\n"
      ]
    },
    {
      "cell_type": "markdown",
      "metadata": {
        "id": "aDb1zDFwo6GO"
      },
      "source": []
    },
    {
      "cell_type": "code",
      "execution_count": 32,
      "metadata": {
        "colab": {
          "base_uri": "https://localhost:8080/",
          "height": 92
        },
        "id": "GNcK0c2to7GD",
        "outputId": "c51d3347-7e6e-434b-89e3-703512c2032b"
      },
      "outputs": [
        {
          "output_type": "stream",
          "name": "stderr",
          "text": [
            "[Parallel(n_jobs=-1)]: Using backend LokyBackend with 2 concurrent workers.\n"
          ]
        },
        {
          "output_type": "execute_result",
          "data": {
            "text/plain": [
              "LogisticRegression(C=50, n_jobs=-1, random_state=42, verbose=1)"
            ],
            "text/html": [
              "<style>#sk-container-id-2 {color: black;background-color: white;}#sk-container-id-2 pre{padding: 0;}#sk-container-id-2 div.sk-toggleable {background-color: white;}#sk-container-id-2 label.sk-toggleable__label {cursor: pointer;display: block;width: 100%;margin-bottom: 0;padding: 0.3em;box-sizing: border-box;text-align: center;}#sk-container-id-2 label.sk-toggleable__label-arrow:before {content: \"▸\";float: left;margin-right: 0.25em;color: #696969;}#sk-container-id-2 label.sk-toggleable__label-arrow:hover:before {color: black;}#sk-container-id-2 div.sk-estimator:hover label.sk-toggleable__label-arrow:before {color: black;}#sk-container-id-2 div.sk-toggleable__content {max-height: 0;max-width: 0;overflow: hidden;text-align: left;background-color: #f0f8ff;}#sk-container-id-2 div.sk-toggleable__content pre {margin: 0.2em;color: black;border-radius: 0.25em;background-color: #f0f8ff;}#sk-container-id-2 input.sk-toggleable__control:checked~div.sk-toggleable__content {max-height: 200px;max-width: 100%;overflow: auto;}#sk-container-id-2 input.sk-toggleable__control:checked~label.sk-toggleable__label-arrow:before {content: \"▾\";}#sk-container-id-2 div.sk-estimator input.sk-toggleable__control:checked~label.sk-toggleable__label {background-color: #d4ebff;}#sk-container-id-2 div.sk-label input.sk-toggleable__control:checked~label.sk-toggleable__label {background-color: #d4ebff;}#sk-container-id-2 input.sk-hidden--visually {border: 0;clip: rect(1px 1px 1px 1px);clip: rect(1px, 1px, 1px, 1px);height: 1px;margin: -1px;overflow: hidden;padding: 0;position: absolute;width: 1px;}#sk-container-id-2 div.sk-estimator {font-family: monospace;background-color: #f0f8ff;border: 1px dotted black;border-radius: 0.25em;box-sizing: border-box;margin-bottom: 0.5em;}#sk-container-id-2 div.sk-estimator:hover {background-color: #d4ebff;}#sk-container-id-2 div.sk-parallel-item::after {content: \"\";width: 100%;border-bottom: 1px solid gray;flex-grow: 1;}#sk-container-id-2 div.sk-label:hover label.sk-toggleable__label {background-color: #d4ebff;}#sk-container-id-2 div.sk-serial::before {content: \"\";position: absolute;border-left: 1px solid gray;box-sizing: border-box;top: 0;bottom: 0;left: 50%;z-index: 0;}#sk-container-id-2 div.sk-serial {display: flex;flex-direction: column;align-items: center;background-color: white;padding-right: 0.2em;padding-left: 0.2em;position: relative;}#sk-container-id-2 div.sk-item {position: relative;z-index: 1;}#sk-container-id-2 div.sk-parallel {display: flex;align-items: stretch;justify-content: center;background-color: white;position: relative;}#sk-container-id-2 div.sk-item::before, #sk-container-id-2 div.sk-parallel-item::before {content: \"\";position: absolute;border-left: 1px solid gray;box-sizing: border-box;top: 0;bottom: 0;left: 50%;z-index: -1;}#sk-container-id-2 div.sk-parallel-item {display: flex;flex-direction: column;z-index: 1;position: relative;background-color: white;}#sk-container-id-2 div.sk-parallel-item:first-child::after {align-self: flex-end;width: 50%;}#sk-container-id-2 div.sk-parallel-item:last-child::after {align-self: flex-start;width: 50%;}#sk-container-id-2 div.sk-parallel-item:only-child::after {width: 0;}#sk-container-id-2 div.sk-dashed-wrapped {border: 1px dashed gray;margin: 0 0.4em 0.5em 0.4em;box-sizing: border-box;padding-bottom: 0.4em;background-color: white;}#sk-container-id-2 div.sk-label label {font-family: monospace;font-weight: bold;display: inline-block;line-height: 1.2em;}#sk-container-id-2 div.sk-label-container {text-align: center;}#sk-container-id-2 div.sk-container {/* jupyter's `normalize.less` sets `[hidden] { display: none; }` but bootstrap.min.css set `[hidden] { display: none !important; }` so we also need the `!important` here to be able to override the default hidden behavior on the sphinx rendered scikit-learn.org. See: https://github.com/scikit-learn/scikit-learn/issues/21755 */display: inline-block !important;position: relative;}#sk-container-id-2 div.sk-text-repr-fallback {display: none;}</style><div id=\"sk-container-id-2\" class=\"sk-top-container\"><div class=\"sk-text-repr-fallback\"><pre>LogisticRegression(C=50, n_jobs=-1, random_state=42, verbose=1)</pre><b>In a Jupyter environment, please rerun this cell to show the HTML representation or trust the notebook. <br />On GitHub, the HTML representation is unable to render, please try loading this page with nbviewer.org.</b></div><div class=\"sk-container\" hidden><div class=\"sk-item\"><div class=\"sk-estimator sk-toggleable\"><input class=\"sk-toggleable__control sk-hidden--visually\" id=\"sk-estimator-id-4\" type=\"checkbox\" checked><label for=\"sk-estimator-id-4\" class=\"sk-toggleable__label sk-toggleable__label-arrow\">LogisticRegression</label><div class=\"sk-toggleable__content\"><pre>LogisticRegression(C=50, n_jobs=-1, random_state=42, verbose=1)</pre></div></div></div></div></div>"
            ]
          },
          "metadata": {},
          "execution_count": 32
        }
      ],
      "source": [
        "model1 = LogisticRegression(C=random_clf_1.best_params_['C'], penalty='l2', random_state=42, n_jobs=-1, verbose=1)\n",
        "model1.fit(X_train_cpu,y_train_cpu)"
      ]
    },
    {
      "cell_type": "code",
      "execution_count": 35,
      "metadata": {
        "colab": {
          "base_uri": "https://localhost:8080/"
        },
        "id": "MnhJqxlpegq2",
        "outputId": "3a087bcc-3ae1-42a3-a75a-31c4d399c38b"
      },
      "outputs": [
        {
          "output_type": "stream",
          "name": "stdout",
          "text": [
            "f1_score for train: 0.9779127537952416\n",
            "f1_score for test: 0.9783508100943878\n"
          ]
        }
      ],
      "source": [
        "X_test_cpu=X_test.to_numpy()\n",
        "y_test_cpu=y_test.to_numpy()\n",
        "\n",
        "subset_size = 10 # Number of data points to save\n",
        "random_indices = np.random.choice(len(X_test_cpu), size=subset_size, replace=False)\n",
        "\n",
        "# Select subset data\n",
        "X_subset = X_test_cpu[random_indices]\n",
        "y_subset = y_test_cpu[random_indices]\n",
        "\n",
        "\n",
        "# Convert to DataFrame\n",
        "subset_df = pd.DataFrame(X_subset)\n",
        "subset_df['target'] = y_subset\n",
        "\n",
        "# Save to CSV\n",
        "subset_df.to_csv('subset_data.csv', index=False)\n",
        "\n",
        "\n",
        "\n",
        "ypred = model1.predict(X_train_cpu)\n",
        "# print(ypred)\n",
        "f1score = f1_score(y_train_cpu, np.round(ypred))\n",
        "print('f1_score for train:',f1score)\n",
        "ypred = model1.predict(X_test_cpu)\n",
        "f1score = f1_score(y_test_cpu, np.round(ypred))\n",
        "print('f1_score for test:',f1score)\n",
        "# Dumping model in pickle file\n",
        "with open('LR.pkl', 'wb') as fp:\n",
        " pickle.dump(model1, fp, protocol=pickle.HIGHEST_PROTOCOL)"
      ]
    },
    {
      "cell_type": "code",
      "execution_count": 36,
      "metadata": {
        "colab": {
          "base_uri": "https://localhost:8080/"
        },
        "id": "NlFKGwMSehCU",
        "outputId": "4316a48b-3baa-4b7e-94c1-88cdccc5a073"
      },
      "outputs": [
        {
          "output_type": "stream",
          "name": "stdout",
          "text": [
            "calling cross_val_score with cv=5 for test data:\n"
          ]
        },
        {
          "output_type": "stream",
          "name": "stderr",
          "text": [
            "[Parallel(n_jobs=-1)]: Using backend LokyBackend with 2 concurrent workers.\n",
            "[Parallel(n_jobs=-1)]: Using backend LokyBackend with 2 concurrent workers.\n",
            "[Parallel(n_jobs=-1)]: Using backend LokyBackend with 2 concurrent workers.\n",
            "[Parallel(n_jobs=-1)]: Using backend LokyBackend with 2 concurrent workers.\n",
            "[Parallel(n_jobs=-1)]: Using backend LokyBackend with 2 concurrent workers.\n"
          ]
        },
        {
          "output_type": "stream",
          "name": "stdout",
          "text": [
            "{'fit_time': array([19.24821639, 15.63191509, 15.65384102, 14.84869933, 14.5403409 ]), 'score_time': array([0.19159389, 0.32448435, 0.29419041, 0.18993068, 0.2012794 ]), 'test_f1': array([0.97785241, 0.97887662, 0.97682946, 0.97731504, 0.97756703]), 'test_f1_macro': array([0.98357841, 0.98434218, 0.982822  , 0.98317997, 0.98336935])}\n"
          ]
        }
      ],
      "source": [
        "\n",
        "# Load the model from file\n",
        "with open('LR.pkl', 'rb') as infile:\n",
        "    model = pickle.load(infile)\n",
        "\n",
        "# Close the file after loading\n",
        "infile.close()\n",
        "scores = cross_validation(model)\n",
        "print(scores)"
      ]
    },
    {
      "cell_type": "code",
      "execution_count": 37,
      "metadata": {
        "colab": {
          "base_uri": "https://localhost:8080/"
        },
        "id": "w4XEWxWokFjz",
        "outputId": "c55a1536-be86-41b1-ca69-58b4f65c44aa"
      },
      "outputs": [
        {
          "output_type": "stream",
          "name": "stdout",
          "text": [
            "mean test f1_score:  0.9776881103059154\n",
            "mean test macro_f1:  0.9834583837558041\n"
          ]
        }
      ],
      "source": [
        "\n",
        "print('mean test f1_score: ',scores['test_f1'].mean())\n",
        "print('mean test macro_f1: ',scores['test_f1_macro'].mean())"
      ]
    },
    {
      "cell_type": "code",
      "source": [],
      "metadata": {
        "id": "otstQ6G8wm8V"
      },
      "execution_count": null,
      "outputs": []
    },
    {
      "cell_type": "code",
      "execution_count": 38,
      "metadata": {
        "id": "UNi33pfokdTC"
      },
      "outputs": [],
      "source": [
        "\n",
        "from sklearn.metrics import ConfusionMatrixDisplay, confusion_matrix\n",
        "import matplotlib.pyplot as plt"
      ]
    },
    {
      "cell_type": "code",
      "execution_count": 39,
      "metadata": {
        "colab": {
          "base_uri": "https://localhost:8080/",
          "height": 466
        },
        "id": "sga8M33tMNxk",
        "outputId": "2f1680a6-113b-4e7e-bb5c-f4cbd22f4e69"
      },
      "outputs": [
        {
          "output_type": "display_data",
          "data": {
            "text/plain": [
              "<Figure size 640x480 with 2 Axes>"
            ],
            "image/png": "[encoded data removed]"
          },
          "metadata": {}
        },
        {
          "output_type": "execute_result",
          "data": {
            "text/plain": [
              "5"
            ]
          },
          "metadata": {},
          "execution_count": 39
        }
      ],
      "source": [
        "\n",
        "cm = confusion_matrix(y_test_cpu, ypred)\n",
        "disp = ConfusionMatrixDisplay(confusion_matrix=cm, display_labels=model1.classes_)\n",
        "disp.plot(values_format='')  # Remove values from matrix cells\n",
        "plt.show()\n",
        "del model\n",
        "del model1\n",
        "gc.collect()"
      ]
    },
    {
      "cell_type": "code",
      "execution_count": 40,
      "metadata": {
        "colab": {
          "base_uri": "https://localhost:8080/",
          "height": 845
        },
        "id": "UvYFnWRSMQip",
        "outputId": "fec7f1bf-8c56-4b53-e27c-c6f9c89a8fb4"
      },
      "outputs": [
        {
          "output_type": "stream",
          "name": "stdout",
          "text": [
            "[1.e+00 1.e-01 1.e-02 1.e-03 1.e-04 1.e-05 1.e-06 1.e-07 1.e-08 1.e-09]\n",
            "Fitting 2 folds for each of 10 candidates, totalling 20 fits\n",
            "[CV 1/2; 1/10] START var_smoothing=1.0..........................................\n",
            "[CV 1/2; 1/10] END ...........var_smoothing=1.0;, score=0.772 total time=  12.9s\n",
            "[CV 2/2; 1/10] START var_smoothing=1.0..........................................\n",
            "[CV 2/2; 1/10] END ...........var_smoothing=1.0;, score=0.772 total time=   9.4s\n",
            "[CV 1/2; 2/10] START var_smoothing=0.09999999999999999..........................\n",
            "[CV 1/2; 2/10] END var_smoothing=0.09999999999999999;, score=0.851 total time=   7.4s\n",
            "[CV 2/2; 2/10] START var_smoothing=0.09999999999999999..........................\n",
            "[CV 2/2; 2/10] END var_smoothing=0.09999999999999999;, score=0.851 total time=   8.6s\n",
            "[CV 1/2; 3/10] START var_smoothing=0.01.........................................\n",
            "[CV 1/2; 3/10] END ..........var_smoothing=0.01;, score=0.851 total time=   6.7s\n",
            "[CV 2/2; 3/10] START var_smoothing=0.01.........................................\n",
            "[CV 2/2; 3/10] END ..........var_smoothing=0.01;, score=0.849 total time=   7.5s\n",
            "[CV 1/2; 4/10] START var_smoothing=0.001........................................\n",
            "[CV 1/2; 4/10] END .........var_smoothing=0.001;, score=0.795 total time=   6.5s\n",
            "[CV 2/2; 4/10] START var_smoothing=0.001........................................\n",
            "[CV 2/2; 4/10] END .........var_smoothing=0.001;, score=0.794 total time=   6.0s\n",
            "[CV 1/2; 5/10] START var_smoothing=9.999999999999999e-05........................\n",
            "[CV 1/2; 5/10] END var_smoothing=9.999999999999999e-05;, score=0.780 total time=   6.0s\n",
            "[CV 2/2; 5/10] START var_smoothing=9.999999999999999e-05........................\n",
            "[CV 2/2; 5/10] END var_smoothing=9.999999999999999e-05;, score=0.780 total time=   6.2s\n",
            "[CV 1/2; 6/10] START var_smoothing=9.999999999999999e-06........................\n",
            "[CV 1/2; 6/10] END var_smoothing=9.999999999999999e-06;, score=0.786 total time=   5.5s\n",
            "[CV 2/2; 6/10] START var_smoothing=9.999999999999999e-06........................\n",
            "[CV 2/2; 6/10] END var_smoothing=9.999999999999999e-06;, score=0.785 total time=   6.3s\n",
            "[CV 1/2; 7/10] START var_smoothing=1e-06........................................\n",
            "[CV 1/2; 7/10] END .........var_smoothing=1e-06;, score=0.794 total time=   5.5s\n",
            "[CV 2/2; 7/10] START var_smoothing=1e-06........................................\n",
            "[CV 2/2; 7/10] END .........var_smoothing=1e-06;, score=0.792 total time=   5.9s\n",
            "[CV 1/2; 8/10] START var_smoothing=1e-07........................................\n",
            "[CV 1/2; 8/10] END .........var_smoothing=1e-07;, score=0.792 total time=   5.8s\n",
            "[CV 2/2; 8/10] START var_smoothing=1e-07........................................\n",
            "[CV 2/2; 8/10] END .........var_smoothing=1e-07;, score=0.791 total time=   5.5s\n",
            "[CV 1/2; 9/10] START var_smoothing=1e-08........................................\n",
            "[CV 1/2; 9/10] END .........var_smoothing=1e-08;, score=0.790 total time=   6.1s\n",
            "[CV 2/2; 9/10] START var_smoothing=1e-08........................................\n",
            "[CV 2/2; 9/10] END .........var_smoothing=1e-08;, score=0.790 total time=   5.5s\n",
            "[CV 1/2; 10/10] START var_smoothing=9.999999999999999e-10.......................\n",
            "[CV 1/2; 10/10] END var_smoothing=9.999999999999999e-10;, score=0.788 total time=   6.1s\n",
            "[CV 2/2; 10/10] START var_smoothing=9.999999999999999e-10.......................\n",
            "[CV 2/2; 10/10] END var_smoothing=9.999999999999999e-10;, score=0.790 total time=   5.5s\n"
          ]
        },
        {
          "output_type": "execute_result",
          "data": {
            "text/plain": [
              "RandomizedSearchCV(cv=2, estimator=GaussianNB(),\n",
              "                   param_distributions={'var_smoothing': array([1.e+00, 1.e-01, 1.e-02, 1.e-03, 1.e-04, 1.e-05, 1.e-06, 1.e-07,\n",
              "       1.e-08, 1.e-09])},\n",
              "                   scoring='f1', verbose=10)"
            ],
            "text/html": [
              "<style>#sk-container-id-3 {color: black;background-color: white;}#sk-container-id-3 pre{padding: 0;}#sk-container-id-3 div.sk-toggleable {background-color: white;}#sk-container-id-3 label.sk-toggleable__label {cursor: pointer;display: block;width: 100%;margin-bottom: 0;padding: 0.3em;box-sizing: border-box;text-align: center;}#sk-container-id-3 label.sk-toggleable__label-arrow:before {content: \"▸\";float: left;margin-right: 0.25em;color: #696969;}#sk-container-id-3 label.sk-toggleable__label-arrow:hover:before {color: black;}#sk-container-id-3 div.sk-estimator:hover label.sk-toggleable__label-arrow:before {color: black;}#sk-container-id-3 div.sk-toggleable__content {max-height: 0;max-width: 0;overflow: hidden;text-align: left;background-color: #f0f8ff;}#sk-container-id-3 div.sk-toggleable__content pre {margin: 0.2em;color: black;border-radius: 0.25em;background-color: #f0f8ff;}#sk-container-id-3 input.sk-toggleable__control:checked~div.sk-toggleable__content {max-height: 200px;max-width: 100%;overflow: auto;}#sk-container-id-3 input.sk-toggleable__control:checked~label.sk-toggleable__label-arrow:before {content: \"▾\";}#sk-container-id-3 div.sk-estimator input.sk-toggleable__control:checked~label.sk-toggleable__label {background-color: #d4ebff;}#sk-container-id-3 div.sk-label input.sk-toggleable__control:checked~label.sk-toggleable__label {background-color: #d4ebff;}#sk-container-id-3 input.sk-hidden--visually {border: 0;clip: rect(1px 1px 1px 1px);clip: rect(1px, 1px, 1px, 1px);height: 1px;margin: -1px;overflow: hidden;padding: 0;position: absolute;width: 1px;}#sk-container-id-3 div.sk-estimator {font-family: monospace;background-color: #f0f8ff;border: 1px dotted black;border-radius: 0.25em;box-sizing: border-box;margin-bottom: 0.5em;}#sk-container-id-3 div.sk-estimator:hover {background-color: #d4ebff;}#sk-container-id-3 div.sk-parallel-item::after {content: \"\";width: 100%;border-bottom: 1px solid gray;flex-grow: 1;}#sk-container-id-3 div.sk-label:hover label.sk-toggleable__label {background-color: #d4ebff;}#sk-container-id-3 div.sk-serial::before {content: \"\";position: absolute;border-left: 1px solid gray;box-sizing: border-box;top: 0;bottom: 0;left: 50%;z-index: 0;}#sk-container-id-3 div.sk-serial {display: flex;flex-direction: column;align-items: center;background-color: white;padding-right: 0.2em;padding-left: 0.2em;position: relative;}#sk-container-id-3 div.sk-item {position: relative;z-index: 1;}#sk-container-id-3 div.sk-parallel {display: flex;align-items: stretch;justify-content: center;background-color: white;position: relative;}#sk-container-id-3 div.sk-item::before, #sk-container-id-3 div.sk-parallel-item::before {content: \"\";position: absolute;border-left: 1px solid gray;box-sizing: border-box;top: 0;bottom: 0;left: 50%;z-index: -1;}#sk-container-id-3 div.sk-parallel-item {display: flex;flex-direction: column;z-index: 1;position: relative;background-color: white;}#sk-container-id-3 div.sk-parallel-item:first-child::after {align-self: flex-end;width: 50%;}#sk-container-id-3 div.sk-parallel-item:last-child::after {align-self: flex-start;width: 50%;}#sk-container-id-3 div.sk-parallel-item:only-child::after {width: 0;}#sk-container-id-3 div.sk-dashed-wrapped {border: 1px dashed gray;margin: 0 0.4em 0.5em 0.4em;box-sizing: border-box;padding-bottom: 0.4em;background-color: white;}#sk-container-id-3 div.sk-label label {font-family: monospace;font-weight: bold;display: inline-block;line-height: 1.2em;}#sk-container-id-3 div.sk-label-container {text-align: center;}#sk-container-id-3 div.sk-container {/* jupyter's `normalize.less` sets `[hidden] { display: none; }` but bootstrap.min.css set `[hidden] { display: none !important; }` so we also need the `!important` here to be able to override the default hidden behavior on the sphinx rendered scikit-learn.org. See: https://github.com/scikit-learn/scikit-learn/issues/21755 */display: inline-block !important;position: relative;}#sk-container-id-3 div.sk-text-repr-fallback {display: none;}</style><div id=\"sk-container-id-3\" class=\"sk-top-container\"><div class=\"sk-text-repr-fallback\"><pre>RandomizedSearchCV(cv=2, estimator=GaussianNB(),\n",
              "                   param_distributions={&#x27;var_smoothing&#x27;: array([1.e+00, 1.e-01, 1.e-02, 1.e-03, 1.e-04, 1.e-05, 1.e-06, 1.e-07,\n",
              "       1.e-08, 1.e-09])},\n",
              "                   scoring=&#x27;f1&#x27;, verbose=10)</pre><b>In a Jupyter environment, please rerun this cell to show the HTML representation or trust the notebook. <br />On GitHub, the HTML representation is unable to render, please try loading this page with nbviewer.org.</b></div><div class=\"sk-container\" hidden><div class=\"sk-item sk-dashed-wrapped\"><div class=\"sk-label-container\"><div class=\"sk-label sk-toggleable\"><input class=\"sk-toggleable__control sk-hidden--visually\" id=\"sk-estimator-id-5\" type=\"checkbox\" ><label for=\"sk-estimator-id-5\" class=\"sk-toggleable__label sk-toggleable__label-arrow\">RandomizedSearchCV</label><div class=\"sk-toggleable__content\"><pre>RandomizedSearchCV(cv=2, estimator=GaussianNB(),\n",
              "                   param_distributions={&#x27;var_smoothing&#x27;: array([1.e+00, 1.e-01, 1.e-02, 1.e-03, 1.e-04, 1.e-05, 1.e-06, 1.e-07,\n",
              "       1.e-08, 1.e-09])},\n",
              "                   scoring=&#x27;f1&#x27;, verbose=10)</pre></div></div></div><div class=\"sk-parallel\"><div class=\"sk-parallel-item\"><div class=\"sk-item\"><div class=\"sk-label-container\"><div class=\"sk-label sk-toggleable\"><input class=\"sk-toggleable__control sk-hidden--visually\" id=\"sk-estimator-id-6\" type=\"checkbox\" ><label for=\"sk-estimator-id-6\" class=\"sk-toggleable__label sk-toggleable__label-arrow\">estimator: GaussianNB</label><div class=\"sk-toggleable__content\"><pre>GaussianNB()</pre></div></div></div><div class=\"sk-serial\"><div class=\"sk-item\"><div class=\"sk-estimator sk-toggleable\"><input class=\"sk-toggleable__control sk-hidden--visually\" id=\"sk-estimator-id-7\" type=\"checkbox\" ><label for=\"sk-estimator-id-7\" class=\"sk-toggleable__label sk-toggleable__label-arrow\">GaussianNB</label><div class=\"sk-toggleable__content\"><pre>GaussianNB()</pre></div></div></div></div></div></div></div></div></div></div>"
            ]
          },
          "metadata": {},
          "execution_count": 40
        }
      ],
      "source": [
        "\n",
        "var = np.logspace(0,-9, num=10)\n",
        "print(var)\n",
        "np.random.seed(999)\n",
        "params = {'var_smoothing': var}\n",
        "x_clf_2 = GaussianNB()\n",
        "random_clf_2 = RandomizedSearchCV(x_clf_2, param_distributions=params, scoring='f1', verbose=10, cv=2)\n",
        "random_clf_2.fit(X_train_cpu,y_train_cpu)"
      ]
    },
    {
      "cell_type": "code",
      "execution_count": 41,
      "metadata": {
        "colab": {
          "base_uri": "https://localhost:8080/",
          "height": 74
        },
        "id": "dSP92krhMd97",
        "outputId": "83d71093-3918-4407-9c89-3aca1f20d23e"
      },
      "outputs": [
        {
          "output_type": "execute_result",
          "data": {
            "text/plain": [
              "GaussianNB(var_smoothing=0.09999999999999999)"
            ],
            "text/html": [
              "<style>#sk-container-id-4 {color: black;background-color: white;}#sk-container-id-4 pre{padding: 0;}#sk-container-id-4 div.sk-toggleable {background-color: white;}#sk-container-id-4 label.sk-toggleable__label {cursor: pointer;display: block;width: 100%;margin-bottom: 0;padding: 0.3em;box-sizing: border-box;text-align: center;}#sk-container-id-4 label.sk-toggleable__label-arrow:before {content: \"▸\";float: left;margin-right: 0.25em;color: #696969;}#sk-container-id-4 label.sk-toggleable__label-arrow:hover:before {color: black;}#sk-container-id-4 div.sk-estimator:hover label.sk-toggleable__label-arrow:before {color: black;}#sk-container-id-4 div.sk-toggleable__content {max-height: 0;max-width: 0;overflow: hidden;text-align: left;background-color: #f0f8ff;}#sk-container-id-4 div.sk-toggleable__content pre {margin: 0.2em;color: black;border-radius: 0.25em;background-color: #f0f8ff;}#sk-container-id-4 input.sk-toggleable__control:checked~div.sk-toggleable__content {max-height: 200px;max-width: 100%;overflow: auto;}#sk-container-id-4 input.sk-toggleable__control:checked~label.sk-toggleable__label-arrow:before {content: \"▾\";}#sk-container-id-4 div.sk-estimator input.sk-toggleable__control:checked~label.sk-toggleable__label {background-color: #d4ebff;}#sk-container-id-4 div.sk-label input.sk-toggleable__control:checked~label.sk-toggleable__label {background-color: #d4ebff;}#sk-container-id-4 input.sk-hidden--visually {border: 0;clip: rect(1px 1px 1px 1px);clip: rect(1px, 1px, 1px, 1px);height: 1px;margin: -1px;overflow: hidden;padding: 0;position: absolute;width: 1px;}#sk-container-id-4 div.sk-estimator {font-family: monospace;background-color: #f0f8ff;border: 1px dotted black;border-radius: 0.25em;box-sizing: border-box;margin-bottom: 0.5em;}#sk-container-id-4 div.sk-estimator:hover {background-color: #d4ebff;}#sk-container-id-4 div.sk-parallel-item::after {content: \"\";width: 100%;border-bottom: 1px solid gray;flex-grow: 1;}#sk-container-id-4 div.sk-label:hover label.sk-toggleable__label {background-color: #d4ebff;}#sk-container-id-4 div.sk-serial::before {content: \"\";position: absolute;border-left: 1px solid gray;box-sizing: border-box;top: 0;bottom: 0;left: 50%;z-index: 0;}#sk-container-id-4 div.sk-serial {display: flex;flex-direction: column;align-items: center;background-color: white;padding-right: 0.2em;padding-left: 0.2em;position: relative;}#sk-container-id-4 div.sk-item {position: relative;z-index: 1;}#sk-container-id-4 div.sk-parallel {display: flex;align-items: stretch;justify-content: center;background-color: white;position: relative;}#sk-container-id-4 div.sk-item::before, #sk-container-id-4 div.sk-parallel-item::before {content: \"\";position: absolute;border-left: 1px solid gray;box-sizing: border-box;top: 0;bottom: 0;left: 50%;z-index: -1;}#sk-container-id-4 div.sk-parallel-item {display: flex;flex-direction: column;z-index: 1;position: relative;background-color: white;}#sk-container-id-4 div.sk-parallel-item:first-child::after {align-self: flex-end;width: 50%;}#sk-container-id-4 div.sk-parallel-item:last-child::after {align-self: flex-start;width: 50%;}#sk-container-id-4 div.sk-parallel-item:only-child::after {width: 0;}#sk-container-id-4 div.sk-dashed-wrapped {border: 1px dashed gray;margin: 0 0.4em 0.5em 0.4em;box-sizing: border-box;padding-bottom: 0.4em;background-color: white;}#sk-container-id-4 div.sk-label label {font-family: monospace;font-weight: bold;display: inline-block;line-height: 1.2em;}#sk-container-id-4 div.sk-label-container {text-align: center;}#sk-container-id-4 div.sk-container {/* jupyter's `normalize.less` sets `[hidden] { display: none; }` but bootstrap.min.css set `[hidden] { display: none !important; }` so we also need the `!important` here to be able to override the default hidden behavior on the sphinx rendered scikit-learn.org. See: https://github.com/scikit-learn/scikit-learn/issues/21755 */display: inline-block !important;position: relative;}#sk-container-id-4 div.sk-text-repr-fallback {display: none;}</style><div id=\"sk-container-id-4\" class=\"sk-top-container\"><div class=\"sk-text-repr-fallback\"><pre>GaussianNB(var_smoothing=0.09999999999999999)</pre><b>In a Jupyter environment, please rerun this cell to show the HTML representation or trust the notebook. <br />On GitHub, the HTML representation is unable to render, please try loading this page with nbviewer.org.</b></div><div class=\"sk-container\" hidden><div class=\"sk-item\"><div class=\"sk-estimator sk-toggleable\"><input class=\"sk-toggleable__control sk-hidden--visually\" id=\"sk-estimator-id-8\" type=\"checkbox\" checked><label for=\"sk-estimator-id-8\" class=\"sk-toggleable__label sk-toggleable__label-arrow\">GaussianNB</label><div class=\"sk-toggleable__content\"><pre>GaussianNB(var_smoothing=0.09999999999999999)</pre></div></div></div></div></div>"
            ]
          },
          "metadata": {},
          "execution_count": 41
        }
      ],
      "source": [
        "model2 = GaussianNB(var_smoothing=random_clf_2.best_params_['var_smoothing'])\n",
        "model2.fit(X_train_cpu,y_train_cpu)\n"
      ]
    },
    {
      "cell_type": "code",
      "execution_count": 42,
      "metadata": {
        "colab": {
          "base_uri": "https://localhost:8080/"
        },
        "id": "mIz0UUd5WLbe",
        "outputId": "2abb91fd-b9e8-4b2a-f473-4578eb6dcf7a"
      },
      "outputs": [
        {
          "output_type": "stream",
          "name": "stdout",
          "text": [
            "f1_score for train: 0.8510182028067979\n",
            "f1_score for test: 0.8512216104307213\n"
          ]
        }
      ],
      "source": [
        "ypred = model2.predict(X_train_cpu)\n",
        "f1score = f1_score(y_train_cpu, ypred)\n",
        "print('f1_score for train:',f1score)\n",
        "ypred = model2.predict(X_test_cpu)\n",
        "f1score = f1_score(y_test_cpu, ypred)\n",
        "print('f1_score for test:',f1score)\n",
        "# Dumping model in pickle file\n",
        "with open('NB.pkl', 'wb') as fp:\n",
        " pickle.dump(model2, fp, protocol=pickle.HIGHEST_PROTOCOL)"
      ]
    },
    {
      "cell_type": "code",
      "execution_count": 43,
      "metadata": {
        "colab": {
          "base_uri": "https://localhost:8080/"
        },
        "id": "4wQBCD4RWWwp",
        "outputId": "a96a15be-c51d-4726-b52c-542970f287a5"
      },
      "outputs": [
        {
          "output_type": "stream",
          "name": "stdout",
          "text": [
            "calling cross_val_score with cv=5 for test data:\n",
            "{'fit_time': array([1.04310346, 1.02965713, 1.22549343, 1.20623064, 1.07221365]), 'score_time': array([0.31325483, 0.32740951, 0.36364245, 0.35674238, 0.33593345]), 'test_f1': array([0.85146294, 0.84917177, 0.85074284, 0.85202491, 0.85278318]), 'test_f1_macro': array([0.88506048, 0.88320677, 0.88458754, 0.8855042 , 0.88611018])}\n"
          ]
        }
      ],
      "source": [
        "\n",
        "infile = open('NB.pkl','rb')\n",
        "model = pickle.load(infile)\n",
        "infile.close()\n",
        "scores = cross_validation(model)\n",
        "print(scores)\n"
      ]
    },
    {
      "cell_type": "code",
      "execution_count": 44,
      "metadata": {
        "colab": {
          "base_uri": "https://localhost:8080/"
        },
        "id": "0KXPYKKYWc0w",
        "outputId": "8c7e3c7f-70d1-4fc5-b9d1-fad424145872"
      },
      "outputs": [
        {
          "output_type": "stream",
          "name": "stdout",
          "text": [
            "mean test f1_score:  0.8512371257803203\n",
            "mean test macro_f1:  0.884893834944035\n"
          ]
        }
      ],
      "source": [
        "\n",
        "print('mean test f1_score: ',scores['test_f1'].mean())\n",
        "print('mean test macro_f1: ',scores['test_f1_macro'].mean())"
      ]
    },
    {
      "cell_type": "code",
      "execution_count": 45,
      "metadata": {
        "colab": {
          "base_uri": "https://localhost:8080/",
          "height": 466
        },
        "id": "MjhLJ1kBWkZx",
        "outputId": "872035e5-503c-448a-89c4-de845422baa8"
      },
      "outputs": [
        {
          "output_type": "display_data",
          "data": {
            "text/plain": [
              "<Figure size 640x480 with 2 Axes>"
            ],
            "image/png": "[encoded data removed]"
          },
          "metadata": {}
        },
        {
          "output_type": "execute_result",
          "data": {
            "text/plain": [
              "5055"
            ]
          },
          "metadata": {},
          "execution_count": 45
        }
      ],
      "source": [
        "\n",
        "cm = confusion_matrix(y_test_cpu, ypred)\n",
        "disp = ConfusionMatrixDisplay(confusion_matrix=cm, display_labels=model2.classes_)\n",
        "disp.plot(values_format='')  # Remove values from matrix cells\n",
        "plt.show()\n",
        "del model\n",
        "del model2\n",
        "gc.collect()"
      ]
    },
    {
      "cell_type": "code",
      "execution_count": 46,
      "metadata": {
        "colab": {
          "base_uri": "https://localhost:8080/"
        },
        "id": "H95K0LekWnqF",
        "outputId": "6e4eb85c-a7fe-40bf-ae14-a8e2fb365068"
      },
      "outputs": [
        {
          "output_type": "execute_result",
          "data": {
            "text/plain": [
              "0"
            ]
          },
          "metadata": {},
          "execution_count": 46
        }
      ],
      "source": [
        "gc.collect()"
      ]
    },
    {
      "cell_type": "code",
      "execution_count": 47,
      "metadata": {
        "colab": {
          "base_uri": "https://localhost:8080/",
          "height": 134
        },
        "id": "M89HrLxbAcMR",
        "outputId": "59d4a148-22b8-4198-c53d-a31abbdc7810"
      },
      "outputs": [
        {
          "output_type": "stream",
          "name": "stdout",
          "text": [
            "Fitting 2 folds for each of 10 candidates, totalling 20 fits\n"
          ]
        },
        {
          "output_type": "execute_result",
          "data": {
            "text/plain": [
              "RandomizedSearchCV(cv=2, estimator=DecisionTreeClassifier(), n_jobs=-1,\n",
              "                   param_distributions={'max_depth': [3, 5, 8, None],\n",
              "                                        'max_features': ['auto', 'log2', None]},\n",
              "                   scoring='f1', verbose=1)"
            ],
            "text/html": [
              "<style>#sk-container-id-5 {color: black;background-color: white;}#sk-container-id-5 pre{padding: 0;}#sk-container-id-5 div.sk-toggleable {background-color: white;}#sk-container-id-5 label.sk-toggleable__label {cursor: pointer;display: block;width: 100%;margin-bottom: 0;padding: 0.3em;box-sizing: border-box;text-align: center;}#sk-container-id-5 label.sk-toggleable__label-arrow:before {content: \"▸\";float: left;margin-right: 0.25em;color: #696969;}#sk-container-id-5 label.sk-toggleable__label-arrow:hover:before {color: black;}#sk-container-id-5 div.sk-estimator:hover label.sk-toggleable__label-arrow:before {color: black;}#sk-container-id-5 div.sk-toggleable__content {max-height: 0;max-width: 0;overflow: hidden;text-align: left;background-color: #f0f8ff;}#sk-container-id-5 div.sk-toggleable__content pre {margin: 0.2em;color: black;border-radius: 0.25em;background-color: #f0f8ff;}#sk-container-id-5 input.sk-toggleable__control:checked~div.sk-toggleable__content {max-height: 200px;max-width: 100%;overflow: auto;}#sk-container-id-5 input.sk-toggleable__control:checked~label.sk-toggleable__label-arrow:before {content: \"▾\";}#sk-container-id-5 div.sk-estimator input.sk-toggleable__control:checked~label.sk-toggleable__label {background-color: #d4ebff;}#sk-container-id-5 div.sk-label input.sk-toggleable__control:checked~label.sk-toggleable__label {background-color: #d4ebff;}#sk-container-id-5 input.sk-hidden--visually {border: 0;clip: rect(1px 1px 1px 1px);clip: rect(1px, 1px, 1px, 1px);height: 1px;margin: -1px;overflow: hidden;padding: 0;position: absolute;width: 1px;}#sk-container-id-5 div.sk-estimator {font-family: monospace;background-color: #f0f8ff;border: 1px dotted black;border-radius: 0.25em;box-sizing: border-box;margin-bottom: 0.5em;}#sk-container-id-5 div.sk-estimator:hover {background-color: #d4ebff;}#sk-container-id-5 div.sk-parallel-item::after {content: \"\";width: 100%;border-bottom: 1px solid gray;flex-grow: 1;}#sk-container-id-5 div.sk-label:hover label.sk-toggleable__label {background-color: #d4ebff;}#sk-container-id-5 div.sk-serial::before {content: \"\";position: absolute;border-left: 1px solid gray;box-sizing: border-box;top: 0;bottom: 0;left: 50%;z-index: 0;}#sk-container-id-5 div.sk-serial {display: flex;flex-direction: column;align-items: center;background-color: white;padding-right: 0.2em;padding-left: 0.2em;position: relative;}#sk-container-id-5 div.sk-item {position: relative;z-index: 1;}#sk-container-id-5 div.sk-parallel {display: flex;align-items: stretch;justify-content: center;background-color: white;position: relative;}#sk-container-id-5 div.sk-item::before, #sk-container-id-5 div.sk-parallel-item::before {content: \"\";position: absolute;border-left: 1px solid gray;box-sizing: border-box;top: 0;bottom: 0;left: 50%;z-index: -1;}#sk-container-id-5 div.sk-parallel-item {display: flex;flex-direction: column;z-index: 1;position: relative;background-color: white;}#sk-container-id-5 div.sk-parallel-item:first-child::after {align-self: flex-end;width: 50%;}#sk-container-id-5 div.sk-parallel-item:last-child::after {align-self: flex-start;width: 50%;}#sk-container-id-5 div.sk-parallel-item:only-child::after {width: 0;}#sk-container-id-5 div.sk-dashed-wrapped {border: 1px dashed gray;margin: 0 0.4em 0.5em 0.4em;box-sizing: border-box;padding-bottom: 0.4em;background-color: white;}#sk-container-id-5 div.sk-label label {font-family: monospace;font-weight: bold;display: inline-block;line-height: 1.2em;}#sk-container-id-5 div.sk-label-container {text-align: center;}#sk-container-id-5 div.sk-container {/* jupyter's `normalize.less` sets `[hidden] { display: none; }` but bootstrap.min.css set `[hidden] { display: none !important; }` so we also need the `!important` here to be able to override the default hidden behavior on the sphinx rendered scikit-learn.org. See: https://github.com/scikit-learn/scikit-learn/issues/21755 */display: inline-block !important;position: relative;}#sk-container-id-5 div.sk-text-repr-fallback {display: none;}</style><div id=\"sk-container-id-5\" class=\"sk-top-container\"><div class=\"sk-text-repr-fallback\"><pre>RandomizedSearchCV(cv=2, estimator=DecisionTreeClassifier(), n_jobs=-1,\n",
              "                   param_distributions={&#x27;max_depth&#x27;: [3, 5, 8, None],\n",
              "                                        &#x27;max_features&#x27;: [&#x27;auto&#x27;, &#x27;log2&#x27;, None]},\n",
              "                   scoring=&#x27;f1&#x27;, verbose=1)</pre><b>In a Jupyter environment, please rerun this cell to show the HTML representation or trust the notebook. <br />On GitHub, the HTML representation is unable to render, please try loading this page with nbviewer.org.</b></div><div class=\"sk-container\" hidden><div class=\"sk-item sk-dashed-wrapped\"><div class=\"sk-label-container\"><div class=\"sk-label sk-toggleable\"><input class=\"sk-toggleable__control sk-hidden--visually\" id=\"sk-estimator-id-9\" type=\"checkbox\" ><label for=\"sk-estimator-id-9\" class=\"sk-toggleable__label sk-toggleable__label-arrow\">RandomizedSearchCV</label><div class=\"sk-toggleable__content\"><pre>RandomizedSearchCV(cv=2, estimator=DecisionTreeClassifier(), n_jobs=-1,\n",
              "                   param_distributions={&#x27;max_depth&#x27;: [3, 5, 8, None],\n",
              "                                        &#x27;max_features&#x27;: [&#x27;auto&#x27;, &#x27;log2&#x27;, None]},\n",
              "                   scoring=&#x27;f1&#x27;, verbose=1)</pre></div></div></div><div class=\"sk-parallel\"><div class=\"sk-parallel-item\"><div class=\"sk-item\"><div class=\"sk-label-container\"><div class=\"sk-label sk-toggleable\"><input class=\"sk-toggleable__control sk-hidden--visually\" id=\"sk-estimator-id-10\" type=\"checkbox\" ><label for=\"sk-estimator-id-10\" class=\"sk-toggleable__label sk-toggleable__label-arrow\">estimator: DecisionTreeClassifier</label><div class=\"sk-toggleable__content\"><pre>DecisionTreeClassifier()</pre></div></div></div><div class=\"sk-serial\"><div class=\"sk-item\"><div class=\"sk-estimator sk-toggleable\"><input class=\"sk-toggleable__control sk-hidden--visually\" id=\"sk-estimator-id-11\" type=\"checkbox\" ><label for=\"sk-estimator-id-11\" class=\"sk-toggleable__label sk-toggleable__label-arrow\">DecisionTreeClassifier</label><div class=\"sk-toggleable__content\"><pre>DecisionTreeClassifier()</pre></div></div></div></div></div></div></div></div></div></div>"
            ]
          },
          "metadata": {},
          "execution_count": 47
        }
      ],
      "source": [
        "from scipy.stats import randint\n",
        "params = {'max_depth' : [3,5,8,None],\n",
        " 'max_features': ['auto','log2',None],\n",
        " }\n",
        "x_clf_5 = DecisionTreeClassifier()\n",
        "random_clf_5 = RandomizedSearchCV(x_clf_5, param_distributions=params, scoring='f1', verbose=1, cv=2, n_jobs=-1)\n",
        "random_clf_5.fit(X_train_cpu,y_train_cpu)"
      ]
    },
    {
      "cell_type": "code",
      "execution_count": 48,
      "metadata": {
        "colab": {
          "base_uri": "https://localhost:8080/"
        },
        "id": "e3LxYLMWAjDF",
        "outputId": "6b8ca2fa-89af-4754-aee1-70f473928449"
      },
      "outputs": [
        {
          "output_type": "stream",
          "name": "stdout",
          "text": [
            "{'max_features': None, 'max_depth': None}\n",
            "0.9998484024648855\n"
          ]
        }
      ],
      "source": [
        "print(random_clf_5.best_params_)\n",
        "print(random_clf_5.best_score_)\n"
      ]
    },
    {
      "cell_type": "code",
      "execution_count": 49,
      "metadata": {
        "colab": {
          "base_uri": "https://localhost:8080/",
          "height": 74
        },
        "id": "ret2ErMFxTxg",
        "outputId": "88b08a68-6173-4927-c5b0-dd1448c18efd"
      },
      "outputs": [
        {
          "output_type": "execute_result",
          "data": {
            "text/plain": [
              "DecisionTreeClassifier()"
            ],
            "text/html": [
              "<style>#sk-container-id-6 {color: black;background-color: white;}#sk-container-id-6 pre{padding: 0;}#sk-container-id-6 div.sk-toggleable {background-color: white;}#sk-container-id-6 label.sk-toggleable__label {cursor: pointer;display: block;width: 100%;margin-bottom: 0;padding: 0.3em;box-sizing: border-box;text-align: center;}#sk-container-id-6 label.sk-toggleable__label-arrow:before {content: \"▸\";float: left;margin-right: 0.25em;color: #696969;}#sk-container-id-6 label.sk-toggleable__label-arrow:hover:before {color: black;}#sk-container-id-6 div.sk-estimator:hover label.sk-toggleable__label-arrow:before {color: black;}#sk-container-id-6 div.sk-toggleable__content {max-height: 0;max-width: 0;overflow: hidden;text-align: left;background-color: #f0f8ff;}#sk-container-id-6 div.sk-toggleable__content pre {margin: 0.2em;color: black;border-radius: 0.25em;background-color: #f0f8ff;}#sk-container-id-6 input.sk-toggleable__control:checked~div.sk-toggleable__content {max-height: 200px;max-width: 100%;overflow: auto;}#sk-container-id-6 input.sk-toggleable__control:checked~label.sk-toggleable__label-arrow:before {content: \"▾\";}#sk-container-id-6 div.sk-estimator input.sk-toggleable__control:checked~label.sk-toggleable__label {background-color: #d4ebff;}#sk-container-id-6 div.sk-label input.sk-toggleable__control:checked~label.sk-toggleable__label {background-color: #d4ebff;}#sk-container-id-6 input.sk-hidden--visually {border: 0;clip: rect(1px 1px 1px 1px);clip: rect(1px, 1px, 1px, 1px);height: 1px;margin: -1px;overflow: hidden;padding: 0;position: absolute;width: 1px;}#sk-container-id-6 div.sk-estimator {font-family: monospace;background-color: #f0f8ff;border: 1px dotted black;border-radius: 0.25em;box-sizing: border-box;margin-bottom: 0.5em;}#sk-container-id-6 div.sk-estimator:hover {background-color: #d4ebff;}#sk-container-id-6 div.sk-parallel-item::after {content: \"\";width: 100%;border-bottom: 1px solid gray;flex-grow: 1;}#sk-container-id-6 div.sk-label:hover label.sk-toggleable__label {background-color: #d4ebff;}#sk-container-id-6 div.sk-serial::before {content: \"\";position: absolute;border-left: 1px solid gray;box-sizing: border-box;top: 0;bottom: 0;left: 50%;z-index: 0;}#sk-container-id-6 div.sk-serial {display: flex;flex-direction: column;align-items: center;background-color: white;padding-right: 0.2em;padding-left: 0.2em;position: relative;}#sk-container-id-6 div.sk-item {position: relative;z-index: 1;}#sk-container-id-6 div.sk-parallel {display: flex;align-items: stretch;justify-content: center;background-color: white;position: relative;}#sk-container-id-6 div.sk-item::before, #sk-container-id-6 div.sk-parallel-item::before {content: \"\";position: absolute;border-left: 1px solid gray;box-sizing: border-box;top: 0;bottom: 0;left: 50%;z-index: -1;}#sk-container-id-6 div.sk-parallel-item {display: flex;flex-direction: column;z-index: 1;position: relative;background-color: white;}#sk-container-id-6 div.sk-parallel-item:first-child::after {align-self: flex-end;width: 50%;}#sk-container-id-6 div.sk-parallel-item:last-child::after {align-self: flex-start;width: 50%;}#sk-container-id-6 div.sk-parallel-item:only-child::after {width: 0;}#sk-container-id-6 div.sk-dashed-wrapped {border: 1px dashed gray;margin: 0 0.4em 0.5em 0.4em;box-sizing: border-box;padding-bottom: 0.4em;background-color: white;}#sk-container-id-6 div.sk-label label {font-family: monospace;font-weight: bold;display: inline-block;line-height: 1.2em;}#sk-container-id-6 div.sk-label-container {text-align: center;}#sk-container-id-6 div.sk-container {/* jupyter's `normalize.less` sets `[hidden] { display: none; }` but bootstrap.min.css set `[hidden] { display: none !important; }` so we also need the `!important` here to be able to override the default hidden behavior on the sphinx rendered scikit-learn.org. See: https://github.com/scikit-learn/scikit-learn/issues/21755 */display: inline-block !important;position: relative;}#sk-container-id-6 div.sk-text-repr-fallback {display: none;}</style><div id=\"sk-container-id-6\" class=\"sk-top-container\"><div class=\"sk-text-repr-fallback\"><pre>DecisionTreeClassifier()</pre><b>In a Jupyter environment, please rerun this cell to show the HTML representation or trust the notebook. <br />On GitHub, the HTML representation is unable to render, please try loading this page with nbviewer.org.</b></div><div class=\"sk-container\" hidden><div class=\"sk-item\"><div class=\"sk-estimator sk-toggleable\"><input class=\"sk-toggleable__control sk-hidden--visually\" id=\"sk-estimator-id-12\" type=\"checkbox\" checked><label for=\"sk-estimator-id-12\" class=\"sk-toggleable__label sk-toggleable__label-arrow\">DecisionTreeClassifier</label><div class=\"sk-toggleable__content\"><pre>DecisionTreeClassifier()</pre></div></div></div></div></div>"
            ]
          },
          "metadata": {},
          "execution_count": 49
        }
      ],
      "source": [
        "\n",
        "model5 = DecisionTreeClassifier(max_depth=None, max_features=None)\n",
        "model5.fit(X_train_cpu,y_train_cpu)"
      ]
    },
    {
      "cell_type": "code",
      "execution_count": 50,
      "metadata": {
        "colab": {
          "base_uri": "https://localhost:8080/",
          "height": 573
        },
        "id": "v08sQFwixWab",
        "outputId": "edb35ccd-ae36-4d38-89fc-a211544a407f"
      },
      "outputs": [
        {
          "output_type": "stream",
          "name": "stdout",
          "text": [
            "f1_score for train: 1.0\n",
            "f1_score for test: 0.999909237498431\n",
            "calling cross_val_score with cv=5 for test data:\n",
            "{'fit_time': array([31.16038609, 32.11750126, 33.29754019, 30.29485965, 31.25803876]), 'score_time': array([0.16275287, 0.15555477, 0.16402912, 0.24463248, 0.16435099]), 'test_f1': array([0.99961369, 0.99952689, 0.99983585, 0.99956552, 0.99961381]), 'test_f1_macro': array([0.99971445, 0.99965025, 0.99987865, 0.9996788 , 0.99971449])}\n",
            "mean test f1_score:  0.9996311542510249\n",
            "mean test macro_f1:  0.9997273283791721\n"
          ]
        },
        {
          "output_type": "display_data",
          "data": {
            "text/plain": [
              "<Figure size 640x480 with 2 Axes>"
            ],
            "image/png": "[encoded data removed]"
          },
          "metadata": {}
        }
      ],
      "source": [
        "ypred = model5.predict(X_train_cpu)\n",
        "f1score = f1_score(y_train_cpu, np.round(ypred))\n",
        "print('f1_score for train:',f1score)\n",
        "ypred = model5.predict(X_test_cpu)\n",
        "f1score = f1_score(y_test_cpu, np.round(ypred))\n",
        "print('f1_score for test:',f1score)\n",
        "# Dumping model in pickle file\n",
        "with open('DT.pkl', 'wb') as fp:\n",
        " pickle.dump(model5, fp, protocol=pickle.HIGHEST_PROTOCOL)\n",
        "infile = open('DT.pkl','rb')\n",
        "model = pickle.load(infile)\n",
        "infile.close()\n",
        "scores = cross_validation(model)\n",
        "print(scores)\n",
        "print('mean test f1_score: ',scores['test_f1'].mean())\n",
        "print('mean test macro_f1: ',scores['test_f1_macro'].mean())\n",
        "\n",
        "\n",
        "cm = confusion_matrix(y_test_cpu, ypred)\n",
        "disp = ConfusionMatrixDisplay(confusion_matrix=cm, display_labels=model5.classes_)\n",
        "disp.plot(values_format='')  # Remove values from matrix cells\n",
        "plt.show()"
      ]
    },
    {
      "cell_type": "code",
      "execution_count": null,
      "metadata": {
        "id": "jT4roYzdyiCg"
      },
      "outputs": [],
      "source": []
    }
  ],
  "metadata": {
    "accelerator": "GPU",
    "colab": {
      "gpuType": "T4",
      "provenance": [],
      "include_colab_link": true
    },
    "kernelspec": {
      "display_name": "Python 3",
      "name": "python3"
    },
    "language_info": {
      "name": "python"
    },
    "widgets": {
      "application/vnd.jupyter.widget-state+json": {
        "6d104e22a9e34d17b10056c110643568": {
          "model_module": "@jupyter-widgets/controls",
          "model_name": "HBoxModel",
          "model_module_version": "1.5.0",
          "state": {
            "_dom_classes": [],
            "_model_module": "@jupyter-widgets/controls",
            "_model_module_version": "1.5.0",
            "_model_name": "HBoxModel",
            "_view_count": null,
            "_view_module": "@jupyter-widgets/controls",
            "_view_module_version": "1.5.0",
            "_view_name": "HBoxView",
            "box_style": "",
            "children": [
              "IPY_MODEL_d0513a31388f4891a40929f3e20bb66c",
              "IPY_MODEL_0385cec3415d415a8ae925ceb3879849",
              "IPY_MODEL_ac6a3df8359b4350a00d3b7ae3e124b9"
            ],
            "layout": "IPY_MODEL_2f613545c95243d8b4245ac58e6720f8"
          }
        },
        "d0513a31388f4891a40929f3e20bb66c": {
          "model_module": "@jupyter-widgets/controls",
          "model_name": "HTMLModel",
          "model_module_version": "1.5.0",
          "state": {
            "_dom_classes": [],
            "_model_module": "@jupyter-widgets/controls",
            "_model_module_version": "1.5.0",
            "_model_name": "HTMLModel",
            "_view_count": null,
            "_view_module": "@jupyter-widgets/controls",
            "_view_module_version": "1.5.0",
            "_view_name": "HTMLView",
            "description": "",
            "description_tooltip": null,
            "layout": "IPY_MODEL_c7f0061f02614d7fb06b81437d027010",
            "placeholder": "​",
            "style": "IPY_MODEL_27ec0962e93644bda2fef8c4fc541922",
            "value": "100%"
          }
        },
        "0385cec3415d415a8ae925ceb3879849": {
          "model_module": "@jupyter-widgets/controls",
          "model_name": "FloatProgressModel",
          "model_module_version": "1.5.0",
          "state": {
            "_dom_classes": [],
            "_model_module": "@jupyter-widgets/controls",
            "_model_module_version": "1.5.0",
            "_model_name": "FloatProgressModel",
            "_view_count": null,
            "_view_module": "@jupyter-widgets/controls",
            "_view_module_version": "1.5.0",
            "_view_name": "ProgressView",
            "bar_style": "success",
            "description": "",
            "description_tooltip": null,
            "layout": "IPY_MODEL_27f01df55a01402db888c4409b404ade",
            "max": 85,
            "min": 0,
            "orientation": "horizontal",
            "style": "IPY_MODEL_306e26f947c4431896ef74bef4c4cf72",
            "value": 85
          }
        },
        "ac6a3df8359b4350a00d3b7ae3e124b9": {
          "model_module": "@jupyter-widgets/controls",
          "model_name": "HTMLModel",
          "model_module_version": "1.5.0",
          "state": {
            "_dom_classes": [],
            "_model_module": "@jupyter-widgets/controls",
            "_model_module_version": "1.5.0",
            "_model_name": "HTMLModel",
            "_view_count": null,
            "_view_module": "@jupyter-widgets/controls",
            "_view_module_version": "1.5.0",
            "_view_name": "HTMLView",
            "description": "",
            "description_tooltip": null,
            "layout": "IPY_MODEL_401d18ce5a514e758b2d2d880dcb7ebe",
            "placeholder": "​",
            "style": "IPY_MODEL_c2b2d17c0103408b867a52434209b1ba",
            "value": " 85/85 [00:02&lt;00:00, 34.54it/s]"
          }
        },
        "2f613545c95243d8b4245ac58e6720f8": {
          "model_module": "@jupyter-widgets/base",
          "model_name": "LayoutModel",
          "model_module_version": "1.2.0",
          "state": {
            "_model_module": "@jupyter-widgets/base",
            "_model_module_version": "1.2.0",
            "_model_name": "LayoutModel",
            "_view_count": null,
            "_view_module": "@jupyter-widgets/base",
            "_view_module_version": "1.2.0",
            "_view_name": "LayoutView",
            "align_content": null,
            "align_items": null,
            "align_self": null,
            "border": null,
            "bottom": null,
            "display": null,
            "flex": null,
            "flex_flow": null,
            "grid_area": null,
            "grid_auto_columns": null,
            "grid_auto_flow": null,
            "grid_auto_rows": null,
            "grid_column": null,
            "grid_gap": null,
            "grid_row": null,
            "grid_template_areas": null,
            "grid_template_columns": null,
            "grid_template_rows": null,
            "height": null,
            "justify_content": null,
            "justify_items": null,
            "left": null,
            "margin": null,
            "max_height": null,
            "max_width": null,
            "min_height": null,
            "min_width": null,
            "object_fit": null,
            "object_position": null,
            "order": null,
            "overflow": null,
            "overflow_x": null,
            "overflow_y": null,
            "padding": null,
            "right": null,
            "top": null,
            "visibility": null,
            "width": null
          }
        },
        "c7f0061f02614d7fb06b81437d027010": {
          "model_module": "@jupyter-widgets/base",
          "model_name": "LayoutModel",
          "model_module_version": "1.2.0",
          "state": {
            "_model_module": "@jupyter-widgets/base",
            "_model_module_version": "1.2.0",
            "_model_name": "LayoutModel",
            "_view_count": null,
            "_view_module": "@jupyter-widgets/base",
            "_view_module_version": "1.2.0",
            "_view_name": "LayoutView",
            "align_content": null,
            "align_items": null,
            "align_self": null,
            "border": null,
            "bottom": null,
            "display": null,
            "flex": null,
            "flex_flow": null,
            "grid_area": null,
            "grid_auto_columns": null,
            "grid_auto_flow": null,
            "grid_auto_rows": null,
            "grid_column": null,
            "grid_gap": null,
            "grid_row": null,
            "grid_template_areas": null,
            "grid_template_columns": null,
            "grid_template_rows": null,
            "height": null,
            "justify_content": null,
            "justify_items": null,
            "left": null,
            "margin": null,
            "max_height": null,
            "max_width": null,
            "min_height": null,
            "min_width": null,
            "object_fit": null,
            "object_position": null,
            "order": null,
            "overflow": null,
            "overflow_x": null,
            "overflow_y": null,
            "padding": null,
            "right": null,
            "top": null,
            "visibility": null,
            "width": null
          }
        },
        "27ec0962e93644bda2fef8c4fc541922": {
          "model_module": "@jupyter-widgets/controls",
          "model_name": "DescriptionStyleModel",
          "model_module_version": "1.5.0",
          "state": {
            "_model_module": "@jupyter-widgets/controls",
            "_model_module_version": "1.5.0",
            "_model_name": "DescriptionStyleModel",
            "_view_count": null,
            "_view_module": "@jupyter-widgets/base",
            "_view_module_version": "1.2.0",
            "_view_name": "StyleView",
            "description_width": ""
          }
        },
        "27f01df55a01402db888c4409b404ade": {
          "model_module": "@jupyter-widgets/base",
          "model_name": "LayoutModel",
          "model_module_version": "1.2.0",
          "state": {
            "_model_module": "@jupyter-widgets/base",
            "_model_module_version": "1.2.0",
            "_model_name": "LayoutModel",
            "_view_count": null,
            "_view_module": "@jupyter-widgets/base",
            "_view_module_version": "1.2.0",
            "_view_name": "LayoutView",
            "align_content": null,
            "align_items": null,
            "align_self": null,
            "border": null,
            "bottom": null,
            "display": null,
            "flex": null,
            "flex_flow": null,
            "grid_area": null,
            "grid_auto_columns": null,
            "grid_auto_flow": null,
            "grid_auto_rows": null,
            "grid_column": null,
            "grid_gap": null,
            "grid_row": null,
            "grid_template_areas": null,
            "grid_template_columns": null,
            "grid_template_rows": null,
            "height": null,
            "justify_content": null,
            "justify_items": null,
            "left": null,
            "margin": null,
            "max_height": null,
            "max_width": null,
            "min_height": null,
            "min_width": null,
            "object_fit": null,
            "object_position": null,
            "order": null,
            "overflow": null,
            "overflow_x": null,
            "overflow_y": null,
            "padding": null,
            "right": null,
            "top": null,
            "visibility": null,
            "width": null
          }
        },
        "306e26f947c4431896ef74bef4c4cf72": {
          "model_module": "@jupyter-widgets/controls",
          "model_name": "ProgressStyleModel",
          "model_module_version": "1.5.0",
          "state": {
            "_model_module": "@jupyter-widgets/controls",
            "_model_module_version": "1.5.0",
            "_model_name": "ProgressStyleModel",
            "_view_count": null,
            "_view_module": "@jupyter-widgets/base",
            "_view_module_version": "1.2.0",
            "_view_name": "StyleView",
            "bar_color": null,
            "description_width": ""
          }
        },
        "401d18ce5a514e758b2d2d880dcb7ebe": {
          "model_module": "@jupyter-widgets/base",
          "model_name": "LayoutModel",
          "model_module_version": "1.2.0",
          "state": {
            "_model_module": "@jupyter-widgets/base",
            "_model_module_version": "1.2.0",
            "_model_name": "LayoutModel",
            "_view_count": null,
            "_view_module": "@jupyter-widgets/base",
            "_view_module_version": "1.2.0",
            "_view_name": "LayoutView",
            "align_content": null,
            "align_items": null,
            "align_self": null,
            "border": null,
            "bottom": null,
            "display": null,
            "flex": null,
            "flex_flow": null,
            "grid_area": null,
            "grid_auto_columns": null,
            "grid_auto_flow": null,
            "grid_auto_rows": null,
            "grid_column": null,
            "grid_gap": null,
            "grid_row": null,
            "grid_template_areas": null,
            "grid_template_columns": null,
            "grid_template_rows": null,
            "height": null,
            "justify_content": null,
            "justify_items": null,
            "left": null,
            "margin": null,
            "max_height": null,
            "max_width": null,
            "min_height": null,
            "min_width": null,
            "object_fit": null,
            "object_position": null,
            "order": null,
            "overflow": null,
            "overflow_x": null,
            "overflow_y": null,
            "padding": null,
            "right": null,
            "top": null,
            "visibility": null,
            "width": null
          }
        },
        "c2b2d17c0103408b867a52434209b1ba": {
          "model_module": "@jupyter-widgets/controls",
          "model_name": "DescriptionStyleModel",
          "model_module_version": "1.5.0",
          "state": {
            "_model_module": "@jupyter-widgets/controls",
            "_model_module_version": "1.5.0",
            "_model_name": "DescriptionStyleModel",
            "_view_count": null,
            "_view_module": "@jupyter-widgets/base",
            "_view_module_version": "1.2.0",
            "_view_name": "StyleView",
            "description_width": ""
          }
        },
        "7dc42322fe2c438ea52fdc1363d5e61b": {
          "model_module": "@jupyter-widgets/controls",
          "model_name": "HBoxModel",
          "model_module_version": "1.5.0",
          "state": {
            "_dom_classes": [],
            "_model_module": "@jupyter-widgets/controls",
            "_model_module_version": "1.5.0",
            "_model_name": "HBoxModel",
            "_view_count": null,
            "_view_module": "@jupyter-widgets/controls",
            "_view_module_version": "1.5.0",
            "_view_name": "HBoxView",
            "box_style": "",
            "children": [
              "IPY_MODEL_802c4edcf5bd457bad3ebb61f3b4803b",
              "IPY_MODEL_17bce6920b4e4aee9b2d9dc37f959a79",
              "IPY_MODEL_c2e99bac2c93483bb4c1bc0a04540297"
            ],
            "layout": "IPY_MODEL_696b3d2329c04dd7a4026a27cb2d3951"
          }
        },
        "802c4edcf5bd457bad3ebb61f3b4803b": {
          "model_module": "@jupyter-widgets/controls",
          "model_name": "HTMLModel",
          "model_module_version": "1.5.0",
          "state": {
            "_dom_classes": [],
            "_model_module": "@jupyter-widgets/controls",
            "_model_module_version": "1.5.0",
            "_model_name": "HTMLModel",
            "_view_count": null,
            "_view_module": "@jupyter-widgets/controls",
            "_view_module_version": "1.5.0",
            "_view_name": "HTMLView",
            "description": "",
            "description_tooltip": null,
            "layout": "IPY_MODEL_d2e3e0b1230d477ab29db581325a8eb3",
            "placeholder": "​",
            "style": "IPY_MODEL_15796ccb24b74f38a85482191e6f8ffe",
            "value": "100%"
          }
        },
        "17bce6920b4e4aee9b2d9dc37f959a79": {
          "model_module": "@jupyter-widgets/controls",
          "model_name": "FloatProgressModel",
          "model_module_version": "1.5.0",
          "state": {
            "_dom_classes": [],
            "_model_module": "@jupyter-widgets/controls",
            "_model_module_version": "1.5.0",
            "_model_name": "FloatProgressModel",
            "_view_count": null,
            "_view_module": "@jupyter-widgets/controls",
            "_view_module_version": "1.5.0",
            "_view_name": "ProgressView",
            "bar_style": "success",
            "description": "",
            "description_tooltip": null,
            "layout": "IPY_MODEL_0fe0610203ed4dbd8eac2ca0dd5cd32f",
            "max": 63,
            "min": 0,
            "orientation": "horizontal",
            "style": "IPY_MODEL_3518482b948449cdb039c5db42cbaf3c",
            "value": 63
          }
        },
        "c2e99bac2c93483bb4c1bc0a04540297": {
          "model_module": "@jupyter-widgets/controls",
          "model_name": "HTMLModel",
          "model_module_version": "1.5.0",
          "state": {
            "_dom_classes": [],
            "_model_module": "@jupyter-widgets/controls",
            "_model_module_version": "1.5.0",
            "_model_name": "HTMLModel",
            "_view_count": null,
            "_view_module": "@jupyter-widgets/controls",
            "_view_module_version": "1.5.0",
            "_view_name": "HTMLView",
            "description": "",
            "description_tooltip": null,
            "layout": "IPY_MODEL_356be8ab685648b0a5fed41802bb9875",
            "placeholder": "​",
            "style": "IPY_MODEL_6696169fae1449a4a4eb2ff82b3e43cb",
            "value": " 63/63 [00:00&lt;00:00, 73.81it/s]"
          }
        },
        "696b3d2329c04dd7a4026a27cb2d3951": {
          "model_module": "@jupyter-widgets/base",
          "model_name": "LayoutModel",
          "model_module_version": "1.2.0",
          "state": {
            "_model_module": "@jupyter-widgets/base",
            "_model_module_version": "1.2.0",
            "_model_name": "LayoutModel",
            "_view_count": null,
            "_view_module": "@jupyter-widgets/base",
            "_view_module_version": "1.2.0",
            "_view_name": "LayoutView",
            "align_content": null,
            "align_items": null,
            "align_self": null,
            "border": null,
            "bottom": null,
            "display": null,
            "flex": null,
            "flex_flow": null,
            "grid_area": null,
            "grid_auto_columns": null,
            "grid_auto_flow": null,
            "grid_auto_rows": null,
            "grid_column": null,
            "grid_gap": null,
            "grid_row": null,
            "grid_template_areas": null,
            "grid_template_columns": null,
            "grid_template_rows": null,
            "height": null,
            "justify_content": null,
            "justify_items": null,
            "left": null,
            "margin": null,
            "max_height": null,
            "max_width": null,
            "min_height": null,
            "min_width": null,
            "object_fit": null,
            "object_position": null,
            "order": null,
            "overflow": null,
            "overflow_x": null,
            "overflow_y": null,
            "padding": null,
            "right": null,
            "top": null,
            "visibility": null,
            "width": null
          }
        },
        "d2e3e0b1230d477ab29db581325a8eb3": {
          "model_module": "@jupyter-widgets/base",
          "model_name": "LayoutModel",
          "model_module_version": "1.2.0",
          "state": {
            "_model_module": "@jupyter-widgets/base",
            "_model_module_version": "1.2.0",
            "_model_name": "LayoutModel",
            "_view_count": null,
            "_view_module": "@jupyter-widgets/base",
            "_view_module_version": "1.2.0",
            "_view_name": "LayoutView",
            "align_content": null,
            "align_items": null,
            "align_self": null,
            "border": null,
            "bottom": null,
            "display": null,
            "flex": null,
            "flex_flow": null,
            "grid_area": null,
            "grid_auto_columns": null,
            "grid_auto_flow": null,
            "grid_auto_rows": null,
            "grid_column": null,
            "grid_gap": null,
            "grid_row": null,
            "grid_template_areas": null,
            "grid_template_columns": null,
            "grid_template_rows": null,
            "height": null,
            "justify_content": null,
            "justify_items": null,
            "left": null,
            "margin": null,
            "max_height": null,
            "max_width": null,
            "min_height": null,
            "min_width": null,
            "object_fit": null,
            "object_position": null,
            "order": null,
            "overflow": null,
            "overflow_x": null,
            "overflow_y": null,
            "padding": null,
            "right": null,
            "top": null,
            "visibility": null,
            "width": null
          }
        },
        "15796ccb24b74f38a85482191e6f8ffe": {
          "model_module": "@jupyter-widgets/controls",
          "model_name": "DescriptionStyleModel",
          "model_module_version": "1.5.0",
          "state": {
            "_model_module": "@jupyter-widgets/controls",
            "_model_module_version": "1.5.0",
            "_model_name": "DescriptionStyleModel",
            "_view_count": null,
            "_view_module": "@jupyter-widgets/base",
            "_view_module_version": "1.2.0",
            "_view_name": "StyleView",
            "description_width": ""
          }
        },
        "0fe0610203ed4dbd8eac2ca0dd5cd32f": {
          "model_module": "@jupyter-widgets/base",
          "model_name": "LayoutModel",
          "model_module_version": "1.2.0",
          "state": {
            "_model_module": "@jupyter-widgets/base",
            "_model_module_version": "1.2.0",
            "_model_name": "LayoutModel",
            "_view_count": null,
            "_view_module": "@jupyter-widgets/base",
            "_view_module_version": "1.2.0",
            "_view_name": "LayoutView",
            "align_content": null,
            "align_items": null,
            "align_self": null,
            "border": null,
            "bottom": null,
            "display": null,
            "flex": null,
            "flex_flow": null,
            "grid_area": null,
            "grid_auto_columns": null,
            "grid_auto_flow": null,
            "grid_auto_rows": null,
            "grid_column": null,
            "grid_gap": null,
            "grid_row": null,
            "grid_template_areas": null,
            "grid_template_columns": null,
            "grid_template_rows": null,
            "height": null,
            "justify_content": null,
            "justify_items": null,
            "left": null,
            "margin": null,
            "max_height": null,
            "max_width": null,
            "min_height": null,
            "min_width": null,
            "object_fit": null,
            "object_position": null,
            "order": null,
            "overflow": null,
            "overflow_x": null,
            "overflow_y": null,
            "padding": null,
            "right": null,
            "top": null,
            "visibility": null,
            "width": null
          }
        },
        "3518482b948449cdb039c5db42cbaf3c": {
          "model_module": "@jupyter-widgets/controls",
          "model_name": "ProgressStyleModel",
          "model_module_version": "1.5.0",
          "state": {
            "_model_module": "@jupyter-widgets/controls",
            "_model_module_version": "1.5.0",
            "_model_name": "ProgressStyleModel",
            "_view_count": null,
            "_view_module": "@jupyter-widgets/base",
            "_view_module_version": "1.2.0",
            "_view_name": "StyleView",
            "bar_color": null,
            "description_width": ""
          }
        },
        "356be8ab685648b0a5fed41802bb9875": {
          "model_module": "@jupyter-widgets/base",
          "model_name": "LayoutModel",
          "model_module_version": "1.2.0",
          "state": {
            "_model_module": "@jupyter-widgets/base",
            "_model_module_version": "1.2.0",
            "_model_name": "LayoutModel",
            "_view_count": null,
            "_view_module": "@jupyter-widgets/base",
            "_view_module_version": "1.2.0",
            "_view_name": "LayoutView",
            "align_content": null,
            "align_items": null,
            "align_self": null,
            "border": null,
            "bottom": null,
            "display": null,
            "flex": null,
            "flex_flow": null,
            "grid_area": null,
            "grid_auto_columns": null,
            "grid_auto_flow": null,
            "grid_auto_rows": null,
            "grid_column": null,
            "grid_gap": null,
            "grid_row": null,
            "grid_template_areas": null,
            "grid_template_columns": null,
            "grid_template_rows": null,
            "height": null,
            "justify_content": null,
            "justify_items": null,
            "left": null,
            "margin": null,
            "max_height": null,
            "max_width": null,
            "min_height": null,
            "min_width": null,
            "object_fit": null,
            "object_position": null,
            "order": null,
            "overflow": null,
            "overflow_x": null,
            "overflow_y": null,
            "padding": null,
            "right": null,
            "top": null,
            "visibility": null,
            "width": null
          }
        },
        "6696169fae1449a4a4eb2ff82b3e43cb": {
          "model_module": "@jupyter-widgets/controls",
          "model_name": "DescriptionStyleModel",
          "model_module_version": "1.5.0",
          "state": {
            "_model_module": "@jupyter-widgets/controls",
            "_model_module_version": "1.5.0",
            "_model_name": "DescriptionStyleModel",
            "_view_count": null,
            "_view_module": "@jupyter-widgets/base",
            "_view_module_version": "1.2.0",
            "_view_name": "StyleView",
            "description_width": ""
          }
        }
      }
    }
  },
  "nbformat": 4,
  "nbformat_minor": 0
}